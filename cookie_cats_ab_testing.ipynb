{
 "cells": [
  {
   "cell_type": "code",
   "execution_count": 1,
   "id": "364dbe49",
   "metadata": {
    "_cell_guid": "b1076dfc-b9ad-4769-8c92-a6c4dae69d19",
    "_uuid": "8f2839f25d086af736a60e9eeb907d3b93b6e0e5",
    "execution": {
     "iopub.execute_input": "2024-09-18T15:18:27.495654Z",
     "iopub.status.busy": "2024-09-18T15:18:27.495200Z",
     "iopub.status.idle": "2024-09-18T15:18:30.162495Z",
     "shell.execute_reply": "2024-09-18T15:18:30.160938Z"
    },
    "papermill": {
     "duration": 2.691216,
     "end_time": "2024-09-18T15:18:30.165513",
     "exception": false,
     "start_time": "2024-09-18T15:18:27.474297",
     "status": "completed"
    },
    "tags": []
   },
   "outputs": [
    {
     "name": "stdout",
     "output_type": "stream",
     "text": [
      "/kaggle/input/cookie-cats-dataset/cookie_cats.csv\n"
     ]
    }
   ],
   "source": [
    "# This Python 3 environment comes with many helpful analytics libraries installed\n",
    "# It is defined by the kaggle/python Docker image: https://github.com/kaggle/docker-python\n",
    "# For example, here's several helpful packages to load\n",
    "\n",
    "import numpy as np # linear algebra\n",
    "import pandas as pd # data processing, CSV file I/O (e.g. pd.read_csv)\n",
    "import matplotlib.pyplot as plt\n",
    "import seaborn as sns\n",
    "from statsmodels.stats.proportion import proportions_ztest\n",
    "from scipy.stats import mannwhitneyu\n",
    "# Input data files are available in the read-only \"../input/\" directory\n",
    "# For example, running this (by clicking run or pressing Shift+Enter) will list all files under the input directory\n",
    "\n",
    "import os\n",
    "for dirname, _, filenames in os.walk('/kaggle/input'):\n",
    "    for filename in filenames:\n",
    "        print(os.path.join(dirname, filename))\n",
    "\n",
    "# You can write up to 20GB to the current directory (/kaggle/working/) that gets preserved as output when you create a version using \"Save & Run All\" \n",
    "# You can also write temporary files to /kaggle/temp/, but they won't be saved outside of the current session"
   ]
  },
  {
   "cell_type": "markdown",
   "id": "a8a59842",
   "metadata": {
    "papermill": {
     "duration": 0.017554,
     "end_time": "2024-09-18T15:18:30.201541",
     "exception": false,
     "start_time": "2024-09-18T15:18:30.183987",
     "status": "completed"
    },
    "tags": []
   },
   "source": [
    "## Form hypotheses\n",
    "We don't want our approach to be biased; therefore we should form a hypothesis BEFORE looking at data. The end goal is to determine whether the difference between the retention rate of Gate 30 and Gate 40 players is significant after day 1 and after day 7.\n",
    "\n",
    "Day 1 Retention:\n",
    "- Null hypothesis ($H_0$): There's no difference in `retention_1` between the 2 groups (Gate 30 and Gate 40) i.e. $p_{gate_{30}}$ = $p_{gate_{40}}$\n",
    "- Alternate hypothesis ($H_1$): There's a significant difference in `retention_1` between the 2 groups (Gate 30 and Gate 40) i.e. $p_{gate_{30}}$ $\\neq$ $p_{gate_{40}}$\n",
    "\n",
    "Day 7 Retention\n",
    "- Null hypothesis ($H_0$): There's no difference in `retention_1` between the 2 groups (Gate 30 and Gate 40) i.e. $p_{gate_{30}}$ = $p_{gate_{40}}$\n",
    "- Alternate hypothesis ($H_1$): There's a significant difference in `retention_1` between the 2 groups (Gate 30 and Gate 40) i.e. $p_{gate_{30}}$ $\\neq$ $p_{gate_{40}}$\n",
    "\n",
    "Number of game rounds\n",
    "- Null hypothesis ($H_0$): The average number of game rounds is the same between the 2 groups\n",
    "- Alternate hypothesis ($H_1$): The average number of game rounds is significantly different between the 2 groups\n",
    "\n",
    "We will proceed with extracting relevant data. We will also consider this whole dataset as a sample and any conclusion from this sample can represent the population (which is the new data coming in later on)."
   ]
  },
  {
   "cell_type": "code",
   "execution_count": 2,
   "id": "e9b35708",
   "metadata": {
    "execution": {
     "iopub.execute_input": "2024-09-18T15:18:30.240959Z",
     "iopub.status.busy": "2024-09-18T15:18:30.240294Z",
     "iopub.status.idle": "2024-09-18T15:18:30.385160Z",
     "shell.execute_reply": "2024-09-18T15:18:30.383611Z"
    },
    "papermill": {
     "duration": 0.170933,
     "end_time": "2024-09-18T15:18:30.389659",
     "exception": false,
     "start_time": "2024-09-18T15:18:30.218726",
     "status": "completed"
    },
    "tags": []
   },
   "outputs": [],
   "source": [
    "df = pd.read_csv('/kaggle/input/cookie-cats-dataset/cookie_cats.csv')"
   ]
  },
  {
   "cell_type": "code",
   "execution_count": 3,
   "id": "a4c5398d",
   "metadata": {
    "execution": {
     "iopub.execute_input": "2024-09-18T15:18:30.430144Z",
     "iopub.status.busy": "2024-09-18T15:18:30.429762Z",
     "iopub.status.idle": "2024-09-18T15:18:30.459288Z",
     "shell.execute_reply": "2024-09-18T15:18:30.457785Z"
    },
    "papermill": {
     "duration": 0.053311,
     "end_time": "2024-09-18T15:18:30.462427",
     "exception": false,
     "start_time": "2024-09-18T15:18:30.409116",
     "status": "completed"
    },
    "tags": []
   },
   "outputs": [
    {
     "data": {
      "text/html": [
       "<div>\n",
       "<style scoped>\n",
       "    .dataframe tbody tr th:only-of-type {\n",
       "        vertical-align: middle;\n",
       "    }\n",
       "\n",
       "    .dataframe tbody tr th {\n",
       "        vertical-align: top;\n",
       "    }\n",
       "\n",
       "    .dataframe thead th {\n",
       "        text-align: right;\n",
       "    }\n",
       "</style>\n",
       "<table border=\"1\" class=\"dataframe\">\n",
       "  <thead>\n",
       "    <tr style=\"text-align: right;\">\n",
       "      <th></th>\n",
       "      <th>userid</th>\n",
       "      <th>version</th>\n",
       "      <th>sum_gamerounds</th>\n",
       "      <th>retention_1</th>\n",
       "      <th>retention_7</th>\n",
       "    </tr>\n",
       "  </thead>\n",
       "  <tbody>\n",
       "    <tr>\n",
       "      <th>0</th>\n",
       "      <td>116</td>\n",
       "      <td>gate_30</td>\n",
       "      <td>3</td>\n",
       "      <td>False</td>\n",
       "      <td>False</td>\n",
       "    </tr>\n",
       "    <tr>\n",
       "      <th>1</th>\n",
       "      <td>337</td>\n",
       "      <td>gate_30</td>\n",
       "      <td>38</td>\n",
       "      <td>True</td>\n",
       "      <td>False</td>\n",
       "    </tr>\n",
       "    <tr>\n",
       "      <th>2</th>\n",
       "      <td>377</td>\n",
       "      <td>gate_40</td>\n",
       "      <td>165</td>\n",
       "      <td>True</td>\n",
       "      <td>False</td>\n",
       "    </tr>\n",
       "    <tr>\n",
       "      <th>3</th>\n",
       "      <td>483</td>\n",
       "      <td>gate_40</td>\n",
       "      <td>1</td>\n",
       "      <td>False</td>\n",
       "      <td>False</td>\n",
       "    </tr>\n",
       "    <tr>\n",
       "      <th>4</th>\n",
       "      <td>488</td>\n",
       "      <td>gate_40</td>\n",
       "      <td>179</td>\n",
       "      <td>True</td>\n",
       "      <td>True</td>\n",
       "    </tr>\n",
       "  </tbody>\n",
       "</table>\n",
       "</div>"
      ],
      "text/plain": [
       "   userid  version  sum_gamerounds  retention_1  retention_7\n",
       "0     116  gate_30               3        False        False\n",
       "1     337  gate_30              38         True        False\n",
       "2     377  gate_40             165         True        False\n",
       "3     483  gate_40               1        False        False\n",
       "4     488  gate_40             179         True         True"
      ]
     },
     "execution_count": 3,
     "metadata": {},
     "output_type": "execute_result"
    }
   ],
   "source": [
    "df.head()"
   ]
  },
  {
   "cell_type": "markdown",
   "id": "b387849b",
   "metadata": {
    "papermill": {
     "duration": 0.019816,
     "end_time": "2024-09-18T15:18:30.502028",
     "exception": false,
     "start_time": "2024-09-18T15:18:30.482212",
     "status": "completed"
    },
    "tags": []
   },
   "source": [
    "## Data preprocessing"
   ]
  },
  {
   "cell_type": "code",
   "execution_count": 4,
   "id": "c69ed624",
   "metadata": {
    "execution": {
     "iopub.execute_input": "2024-09-18T15:18:30.541565Z",
     "iopub.status.busy": "2024-09-18T15:18:30.541139Z",
     "iopub.status.idle": "2024-09-18T15:18:30.549975Z",
     "shell.execute_reply": "2024-09-18T15:18:30.548564Z"
    },
    "papermill": {
     "duration": 0.031825,
     "end_time": "2024-09-18T15:18:30.553024",
     "exception": false,
     "start_time": "2024-09-18T15:18:30.521199",
     "status": "completed"
    },
    "tags": []
   },
   "outputs": [
    {
     "data": {
      "text/plain": [
       "Index(['userid', 'version', 'sum_gamerounds', 'retention_1', 'retention_7'], dtype='object')"
      ]
     },
     "execution_count": 4,
     "metadata": {},
     "output_type": "execute_result"
    }
   ],
   "source": [
    "df.columns"
   ]
  },
  {
   "cell_type": "code",
   "execution_count": 5,
   "id": "efa57341",
   "metadata": {
    "execution": {
     "iopub.execute_input": "2024-09-18T15:18:30.593993Z",
     "iopub.status.busy": "2024-09-18T15:18:30.593515Z",
     "iopub.status.idle": "2024-09-18T15:18:30.613161Z",
     "shell.execute_reply": "2024-09-18T15:18:30.611758Z"
    },
    "papermill": {
     "duration": 0.043659,
     "end_time": "2024-09-18T15:18:30.615985",
     "exception": false,
     "start_time": "2024-09-18T15:18:30.572326",
     "status": "completed"
    },
    "tags": []
   },
   "outputs": [
    {
     "data": {
      "text/plain": [
       "90189"
      ]
     },
     "execution_count": 5,
     "metadata": {},
     "output_type": "execute_result"
    }
   ],
   "source": [
    "# check if all user ids are unique\n",
    "df['userid'].nunique()"
   ]
  },
  {
   "cell_type": "markdown",
   "id": "70ef23ed",
   "metadata": {
    "papermill": {
     "duration": 0.018254,
     "end_time": "2024-09-18T15:18:30.654029",
     "exception": false,
     "start_time": "2024-09-18T15:18:30.635775",
     "status": "completed"
    },
    "tags": []
   },
   "source": [
    "All users in the dataset (our sample) are unique"
   ]
  },
  {
   "cell_type": "code",
   "execution_count": 6,
   "id": "f80b3540",
   "metadata": {
    "execution": {
     "iopub.execute_input": "2024-09-18T15:18:30.692282Z",
     "iopub.status.busy": "2024-09-18T15:18:30.691843Z",
     "iopub.status.idle": "2024-09-18T15:18:30.714772Z",
     "shell.execute_reply": "2024-09-18T15:18:30.713492Z"
    },
    "papermill": {
     "duration": 0.045587,
     "end_time": "2024-09-18T15:18:30.717837",
     "exception": false,
     "start_time": "2024-09-18T15:18:30.672250",
     "status": "completed"
    },
    "tags": []
   },
   "outputs": [
    {
     "data": {
      "text/plain": [
       "0"
      ]
     },
     "execution_count": 6,
     "metadata": {},
     "output_type": "execute_result"
    }
   ],
   "source": [
    "# check for missing values across columns\n",
    "count = 0\n",
    "for col in df.columns:\n",
    "    count = count + df[col].isna().sum()\n",
    "count"
   ]
  },
  {
   "cell_type": "markdown",
   "id": "81545082",
   "metadata": {
    "papermill": {
     "duration": 0.018538,
     "end_time": "2024-09-18T15:18:30.754734",
     "exception": false,
     "start_time": "2024-09-18T15:18:30.736196",
     "status": "completed"
    },
    "tags": []
   },
   "source": [
    "There is no NaN values in our dataset since it's been preprocessed and the main focus is to learn how to A/B test our dataset."
   ]
  },
  {
   "cell_type": "markdown",
   "id": "c3a97894",
   "metadata": {
    "papermill": {
     "duration": 0.017785,
     "end_time": "2024-09-18T15:18:30.791107",
     "exception": false,
     "start_time": "2024-09-18T15:18:30.773322",
     "status": "completed"
    },
    "tags": []
   },
   "source": [
    "### Visualization on the number of game rounds between Gate 30 and Gate 40 players"
   ]
  },
  {
   "cell_type": "code",
   "execution_count": 7,
   "id": "7abb08ea",
   "metadata": {
    "execution": {
     "iopub.execute_input": "2024-09-18T15:18:30.829647Z",
     "iopub.status.busy": "2024-09-18T15:18:30.829208Z",
     "iopub.status.idle": "2024-09-18T15:18:30.874882Z",
     "shell.execute_reply": "2024-09-18T15:18:30.873709Z"
    },
    "papermill": {
     "duration": 0.068255,
     "end_time": "2024-09-18T15:18:30.877770",
     "exception": false,
     "start_time": "2024-09-18T15:18:30.809515",
     "status": "completed"
    },
    "tags": []
   },
   "outputs": [
    {
     "data": {
      "text/html": [
       "<div>\n",
       "<style scoped>\n",
       "    .dataframe tbody tr th:only-of-type {\n",
       "        vertical-align: middle;\n",
       "    }\n",
       "\n",
       "    .dataframe tbody tr th {\n",
       "        vertical-align: top;\n",
       "    }\n",
       "\n",
       "    .dataframe thead th {\n",
       "        text-align: right;\n",
       "    }\n",
       "</style>\n",
       "<table border=\"1\" class=\"dataframe\">\n",
       "  <thead>\n",
       "    <tr style=\"text-align: right;\">\n",
       "      <th></th>\n",
       "      <th>count</th>\n",
       "      <th>median</th>\n",
       "      <th>mean</th>\n",
       "      <th>std</th>\n",
       "      <th>max</th>\n",
       "    </tr>\n",
       "    <tr>\n",
       "      <th>version</th>\n",
       "      <th></th>\n",
       "      <th></th>\n",
       "      <th></th>\n",
       "      <th></th>\n",
       "      <th></th>\n",
       "    </tr>\n",
       "  </thead>\n",
       "  <tbody>\n",
       "    <tr>\n",
       "      <th>gate_30</th>\n",
       "      <td>44700</td>\n",
       "      <td>17.0</td>\n",
       "      <td>52.456264</td>\n",
       "      <td>256.716423</td>\n",
       "      <td>49854</td>\n",
       "    </tr>\n",
       "    <tr>\n",
       "      <th>gate_40</th>\n",
       "      <td>45489</td>\n",
       "      <td>16.0</td>\n",
       "      <td>51.298776</td>\n",
       "      <td>103.294416</td>\n",
       "      <td>2640</td>\n",
       "    </tr>\n",
       "  </tbody>\n",
       "</table>\n",
       "</div>"
      ],
      "text/plain": [
       "         count  median       mean         std    max\n",
       "version                                             \n",
       "gate_30  44700    17.0  52.456264  256.716423  49854\n",
       "gate_40  45489    16.0  51.298776  103.294416   2640"
      ]
     },
     "execution_count": 7,
     "metadata": {},
     "output_type": "execute_result"
    }
   ],
   "source": [
    "df.groupby('version').sum_gamerounds.agg(['count', 'median', 'mean', 'std', 'max'])"
   ]
  },
  {
   "cell_type": "code",
   "execution_count": 8,
   "id": "5755dc8c",
   "metadata": {
    "execution": {
     "iopub.execute_input": "2024-09-18T15:18:30.916463Z",
     "iopub.status.busy": "2024-09-18T15:18:30.916020Z",
     "iopub.status.idle": "2024-09-18T15:18:32.171564Z",
     "shell.execute_reply": "2024-09-18T15:18:32.170398Z"
    },
    "papermill": {
     "duration": 1.278539,
     "end_time": "2024-09-18T15:18:32.174578",
     "exception": false,
     "start_time": "2024-09-18T15:18:30.896039",
     "status": "completed"
    },
    "tags": []
   },
   "outputs": [
    {
     "data": {
      "image/png": "[encoded data removed]",
      "text/plain": [
       "<Figure size 1800x500 with 3 Axes>"
      ]
     },
     "metadata": {},
     "output_type": "display_data"
    }
   ],
   "source": [
    "fig, axes = plt.subplots(1, 3, figsize = (18,5))\n",
    "df[(df.version == \"gate_30\")].hist(\"sum_gamerounds\", ax = axes[0], color = \"steelblue\")\n",
    "df[(df.version == \"gate_40\")].hist(\"sum_gamerounds\", ax = axes[1], color = \"steelblue\")\n",
    "sns.boxplot(x = df.version, y = df.sum_gamerounds, ax = axes[2])\n",
    "\n",
    "plt.suptitle(\"Distributions of Game Rounds between Gate 30 and Gate 40 Before Removing Outliers\", fontsize = 20)\n",
    "axes[0].set_title(\"Distribution of Gate 30\", fontsize = 15)\n",
    "axes[1].set_title(\"Distribution of Gate 40\", fontsize = 15)\n",
    "axes[2].set_title(\"Distribution of Two Groups\", fontsize = 15)\n",
    "\n",
    "plt.tight_layout(pad = 4);"
   ]
  },
  {
   "cell_type": "markdown",
   "id": "f2de728c",
   "metadata": {
    "papermill": {
     "duration": 0.019615,
     "end_time": "2024-09-18T15:18:32.213867",
     "exception": false,
     "start_time": "2024-09-18T15:18:32.194252",
     "status": "completed"
    },
    "tags": []
   },
   "source": [
    "From the distribution of the two groups, we notice that there's an outlier in the number of game rounds played for gate_30. We will check how many of such extreme values are there"
   ]
  },
  {
   "cell_type": "code",
   "execution_count": 9,
   "id": "b21e361d",
   "metadata": {
    "execution": {
     "iopub.execute_input": "2024-09-18T15:18:32.255921Z",
     "iopub.status.busy": "2024-09-18T15:18:32.254947Z",
     "iopub.status.idle": "2024-09-18T15:18:32.289259Z",
     "shell.execute_reply": "2024-09-18T15:18:32.287626Z"
    },
    "papermill": {
     "duration": 0.058387,
     "end_time": "2024-09-18T15:18:32.292279",
     "exception": false,
     "start_time": "2024-09-18T15:18:32.233892",
     "status": "completed"
    },
    "tags": []
   },
   "outputs": [
    {
     "data": {
      "text/plain": [
       "1"
      ]
     },
     "execution_count": 9,
     "metadata": {},
     "output_type": "execute_result"
    }
   ],
   "source": [
    "df_gate_30 = df[df['version'] == 'gate_30']\n",
    "df_gate_30[df_gate_30['sum_gamerounds'] > 10000].value_counts().sum()"
   ]
  },
  {
   "cell_type": "markdown",
   "id": "4f31caf5",
   "metadata": {
    "papermill": {
     "duration": 0.019607,
     "end_time": "2024-09-18T15:18:32.331933",
     "exception": false,
     "start_time": "2024-09-18T15:18:32.312326",
     "status": "completed"
    },
    "tags": []
   },
   "source": [
    "There's only 1 such extreme value where his/her number of play rounds exceeds 10000. We will remove this outlier."
   ]
  },
  {
   "cell_type": "code",
   "execution_count": 10,
   "id": "e7f7f02c",
   "metadata": {
    "execution": {
     "iopub.execute_input": "2024-09-18T15:18:32.373657Z",
     "iopub.status.busy": "2024-09-18T15:18:32.373226Z",
     "iopub.status.idle": "2024-09-18T15:18:32.398258Z",
     "shell.execute_reply": "2024-09-18T15:18:32.396623Z"
    },
    "papermill": {
     "duration": 0.054278,
     "end_time": "2024-09-18T15:18:32.406083",
     "exception": false,
     "start_time": "2024-09-18T15:18:32.351805",
     "status": "completed"
    },
    "tags": []
   },
   "outputs": [
    {
     "data": {
      "text/html": [
       "<div>\n",
       "<style scoped>\n",
       "    .dataframe tbody tr th:only-of-type {\n",
       "        vertical-align: middle;\n",
       "    }\n",
       "\n",
       "    .dataframe tbody tr th {\n",
       "        vertical-align: top;\n",
       "    }\n",
       "\n",
       "    .dataframe thead th {\n",
       "        text-align: right;\n",
       "    }\n",
       "</style>\n",
       "<table border=\"1\" class=\"dataframe\">\n",
       "  <thead>\n",
       "    <tr style=\"text-align: right;\">\n",
       "      <th></th>\n",
       "      <th>userid</th>\n",
       "      <th>version</th>\n",
       "      <th>sum_gamerounds</th>\n",
       "      <th>retention_1</th>\n",
       "      <th>retention_7</th>\n",
       "    </tr>\n",
       "  </thead>\n",
       "  <tbody>\n",
       "    <tr>\n",
       "      <th>0</th>\n",
       "      <td>116</td>\n",
       "      <td>gate_30</td>\n",
       "      <td>3</td>\n",
       "      <td>False</td>\n",
       "      <td>False</td>\n",
       "    </tr>\n",
       "    <tr>\n",
       "      <th>1</th>\n",
       "      <td>337</td>\n",
       "      <td>gate_30</td>\n",
       "      <td>38</td>\n",
       "      <td>True</td>\n",
       "      <td>False</td>\n",
       "    </tr>\n",
       "    <tr>\n",
       "      <th>2</th>\n",
       "      <td>377</td>\n",
       "      <td>gate_40</td>\n",
       "      <td>165</td>\n",
       "      <td>True</td>\n",
       "      <td>False</td>\n",
       "    </tr>\n",
       "    <tr>\n",
       "      <th>3</th>\n",
       "      <td>483</td>\n",
       "      <td>gate_40</td>\n",
       "      <td>1</td>\n",
       "      <td>False</td>\n",
       "      <td>False</td>\n",
       "    </tr>\n",
       "    <tr>\n",
       "      <th>4</th>\n",
       "      <td>488</td>\n",
       "      <td>gate_40</td>\n",
       "      <td>179</td>\n",
       "      <td>True</td>\n",
       "      <td>True</td>\n",
       "    </tr>\n",
       "    <tr>\n",
       "      <th>...</th>\n",
       "      <td>...</td>\n",
       "      <td>...</td>\n",
       "      <td>...</td>\n",
       "      <td>...</td>\n",
       "      <td>...</td>\n",
       "    </tr>\n",
       "    <tr>\n",
       "      <th>90184</th>\n",
       "      <td>9999441</td>\n",
       "      <td>gate_40</td>\n",
       "      <td>97</td>\n",
       "      <td>True</td>\n",
       "      <td>False</td>\n",
       "    </tr>\n",
       "    <tr>\n",
       "      <th>90185</th>\n",
       "      <td>9999479</td>\n",
       "      <td>gate_40</td>\n",
       "      <td>30</td>\n",
       "      <td>False</td>\n",
       "      <td>False</td>\n",
       "    </tr>\n",
       "    <tr>\n",
       "      <th>90186</th>\n",
       "      <td>9999710</td>\n",
       "      <td>gate_30</td>\n",
       "      <td>28</td>\n",
       "      <td>True</td>\n",
       "      <td>False</td>\n",
       "    </tr>\n",
       "    <tr>\n",
       "      <th>90187</th>\n",
       "      <td>9999768</td>\n",
       "      <td>gate_40</td>\n",
       "      <td>51</td>\n",
       "      <td>True</td>\n",
       "      <td>False</td>\n",
       "    </tr>\n",
       "    <tr>\n",
       "      <th>90188</th>\n",
       "      <td>9999861</td>\n",
       "      <td>gate_40</td>\n",
       "      <td>16</td>\n",
       "      <td>False</td>\n",
       "      <td>False</td>\n",
       "    </tr>\n",
       "  </tbody>\n",
       "</table>\n",
       "<p>90188 rows × 5 columns</p>\n",
       "</div>"
      ],
      "text/plain": [
       "        userid  version  sum_gamerounds  retention_1  retention_7\n",
       "0          116  gate_30               3        False        False\n",
       "1          337  gate_30              38         True        False\n",
       "2          377  gate_40             165         True        False\n",
       "3          483  gate_40               1        False        False\n",
       "4          488  gate_40             179         True         True\n",
       "...        ...      ...             ...          ...          ...\n",
       "90184  9999441  gate_40              97         True        False\n",
       "90185  9999479  gate_40              30        False        False\n",
       "90186  9999710  gate_30              28         True        False\n",
       "90187  9999768  gate_40              51         True        False\n",
       "90188  9999861  gate_40              16        False        False\n",
       "\n",
       "[90188 rows x 5 columns]"
      ]
     },
     "execution_count": 10,
     "metadata": {},
     "output_type": "execute_result"
    }
   ],
   "source": [
    "df = df[df.sum_gamerounds < 10000]\n",
    "df"
   ]
  },
  {
   "cell_type": "code",
   "execution_count": 11,
   "id": "b4790662",
   "metadata": {
    "execution": {
     "iopub.execute_input": "2024-09-18T15:18:32.448106Z",
     "iopub.status.busy": "2024-09-18T15:18:32.447653Z",
     "iopub.status.idle": "2024-09-18T15:18:33.564661Z",
     "shell.execute_reply": "2024-09-18T15:18:33.563232Z"
    },
    "papermill": {
     "duration": 1.141422,
     "end_time": "2024-09-18T15:18:33.567876",
     "exception": false,
     "start_time": "2024-09-18T15:18:32.426454",
     "status": "completed"
    },
    "tags": []
   },
   "outputs": [
    {
     "data": {
      "image/png": "[encoded data removed]",
      "text/plain": [
       "<Figure size 1800x500 with 3 Axes>"
      ]
     },
     "metadata": {},
     "output_type": "display_data"
    }
   ],
   "source": [
    "fig, axes = plt.subplots(1, 3, figsize = (18,5))\n",
    "df[(df.version == \"gate_30\")].hist(\"sum_gamerounds\", ax = axes[0], color = \"steelblue\")\n",
    "df[(df.version == \"gate_40\")].hist(\"sum_gamerounds\", ax = axes[1], color = \"steelblue\")\n",
    "sns.boxplot(x = df.version, y = df.sum_gamerounds, ax = axes[2])\n",
    "\n",
    "plt.suptitle(\"Distributions of Game Rounds between Gate 30 and Gate 40 After Removing Outliers\", fontsize = 20)\n",
    "axes[0].set_title(\"Distribution of Gate 30\", fontsize = 15)\n",
    "axes[1].set_title(\"Distribution of Gate 40\", fontsize = 15)\n",
    "axes[2].set_title(\"Distribution of Two Groups\", fontsize = 15)\n",
    "\n",
    "plt.tight_layout(pad = 4);"
   ]
  },
  {
   "cell_type": "markdown",
   "id": "d7f27f6f",
   "metadata": {
    "papermill": {
     "duration": 0.022433,
     "end_time": "2024-09-18T15:18:33.612357",
     "exception": false,
     "start_time": "2024-09-18T15:18:33.589924",
     "status": "completed"
    },
    "tags": []
   },
   "source": [
    "## Total number of users for each group"
   ]
  },
  {
   "cell_type": "code",
   "execution_count": 12,
   "id": "7c0fb247",
   "metadata": {
    "execution": {
     "iopub.execute_input": "2024-09-18T15:18:33.657593Z",
     "iopub.status.busy": "2024-09-18T15:18:33.657159Z",
     "iopub.status.idle": "2024-09-18T15:18:33.752973Z",
     "shell.execute_reply": "2024-09-18T15:18:33.751633Z"
    },
    "papermill": {
     "duration": 0.122237,
     "end_time": "2024-09-18T15:18:33.756302",
     "exception": false,
     "start_time": "2024-09-18T15:18:33.634065",
     "status": "completed"
    },
    "tags": []
   },
   "outputs": [],
   "source": [
    "gate_30_players = df[df['version'] == 'gate_30'].value_counts().sum()\n",
    "gate_40_players = df[df['version'] == 'gate_40'].value_counts().sum()"
   ]
  },
  {
   "cell_type": "markdown",
   "id": "d5639f3a",
   "metadata": {
    "papermill": {
     "duration": 0.021088,
     "end_time": "2024-09-18T15:18:33.798892",
     "exception": false,
     "start_time": "2024-09-18T15:18:33.777804",
     "status": "completed"
    },
    "tags": []
   },
   "source": [
    "## Hypothesis 1: Difference in `retention_1` rate between the 2 groups"
   ]
  },
  {
   "cell_type": "code",
   "execution_count": 13,
   "id": "c64c304e",
   "metadata": {
    "execution": {
     "iopub.execute_input": "2024-09-18T15:18:33.937216Z",
     "iopub.status.busy": "2024-09-18T15:18:33.936768Z",
     "iopub.status.idle": "2024-09-18T15:18:33.945181Z",
     "shell.execute_reply": "2024-09-18T15:18:33.944061Z"
    },
    "papermill": {
     "duration": 0.034467,
     "end_time": "2024-09-18T15:18:33.947935",
     "exception": false,
     "start_time": "2024-09-18T15:18:33.913468",
     "status": "completed"
    },
    "tags": []
   },
   "outputs": [],
   "source": [
    "# convert the column retention_1 and retention_7 into binary numerical values (1 for True, 0 for False)\n",
    "df['retention_1'] = df['retention_1'].astype(int)\n",
    "df['retention_7'] = df['retention_7'].astype(int)"
   ]
  },
  {
   "cell_type": "code",
   "execution_count": 14,
   "id": "0ab54a60",
   "metadata": {
    "execution": {
     "iopub.execute_input": "2024-09-18T15:18:33.993140Z",
     "iopub.status.busy": "2024-09-18T15:18:33.992704Z",
     "iopub.status.idle": "2024-09-18T15:18:34.043844Z",
     "shell.execute_reply": "2024-09-18T15:18:34.042609Z"
    },
    "papermill": {
     "duration": 0.077294,
     "end_time": "2024-09-18T15:18:34.047164",
     "exception": false,
     "start_time": "2024-09-18T15:18:33.969870",
     "status": "completed"
    },
    "tags": []
   },
   "outputs": [],
   "source": [
    "# number of samples of user who's at version gate 30 and retained after day 1\n",
    "gate_30_retention_1_users = df[df['version'] == 'gate_30']['retention_1'].sum()\n",
    "gate_40_retention_1_users = df[df['version'] == 'gate_40']['retention_1'].sum()"
   ]
  },
  {
   "cell_type": "code",
   "execution_count": 15,
   "id": "18680a0d",
   "metadata": {
    "execution": {
     "iopub.execute_input": "2024-09-18T15:18:34.092463Z",
     "iopub.status.busy": "2024-09-18T15:18:34.092057Z",
     "iopub.status.idle": "2024-09-18T15:18:34.098388Z",
     "shell.execute_reply": "2024-09-18T15:18:34.096836Z"
    },
    "papermill": {
     "duration": 0.032708,
     "end_time": "2024-09-18T15:18:34.101503",
     "exception": false,
     "start_time": "2024-09-18T15:18:34.068795",
     "status": "completed"
    },
    "tags": []
   },
   "outputs": [],
   "source": [
    "# retention rate of users after day 1\n",
    "gate_30_retention_1_rate = gate_30_retention_1_users / gate_30_players\n",
    "gate_40_retention_1_rate = gate_40_retention_1_users / gate_40_players"
   ]
  },
  {
   "cell_type": "markdown",
   "id": "b865d856",
   "metadata": {
    "papermill": {
     "duration": 0.022259,
     "end_time": "2024-09-18T15:18:34.145565",
     "exception": false,
     "start_time": "2024-09-18T15:18:34.123306",
     "status": "completed"
    },
    "tags": []
   },
   "source": [
    "Since our goal for this hypothesis is to measure the difference between the proportions of retention rate between Gate 30 and Gate 40, so the appropriate statistical test is the **Two-proportion Z-test**."
   ]
  },
  {
   "cell_type": "code",
   "execution_count": 16,
   "id": "c86dffd8",
   "metadata": {
    "execution": {
     "iopub.execute_input": "2024-09-18T15:18:34.190656Z",
     "iopub.status.busy": "2024-09-18T15:18:34.190192Z",
     "iopub.status.idle": "2024-09-18T15:18:34.199969Z",
     "shell.execute_reply": "2024-09-18T15:18:34.198773Z"
    },
    "papermill": {
     "duration": 0.035569,
     "end_time": "2024-09-18T15:18:34.202713",
     "exception": false,
     "start_time": "2024-09-18T15:18:34.167144",
     "status": "completed"
    },
    "tags": []
   },
   "outputs": [
    {
     "name": "stdout",
     "output_type": "stream",
     "text": [
      "Z-statistic (Day 1): 1.787103509763628\n",
      "P-value (Day 1): 0.0739207603418346\n"
     ]
    }
   ],
   "source": [
    "# Two-proportion Z-test for retention 1 between the 2 groups\n",
    "z_stat_1, p_value_1 = proportions_ztest([gate_30_retention_1_users, gate_40_retention_1_users], [gate_30_players, gate_40_players])\n",
    "\n",
    "# extract the Z test statistic and its p-value\n",
    "print(f\"Z-statistic (Day 1): {z_stat_1}\\nP-value (Day 1): {p_value_1}\")"
   ]
  },
  {
   "cell_type": "markdown",
   "id": "1fa2ae55",
   "metadata": {
    "papermill": {
     "duration": 0.022189,
     "end_time": "2024-09-18T15:18:34.247436",
     "exception": false,
     "start_time": "2024-09-18T15:18:34.225247",
     "status": "completed"
    },
    "tags": []
   },
   "source": [
    "### Is the result statistically significant (Day 1 retention)?\n",
    "We will follow the convention of using a 95% confidence interval to determine whether this result is statistically significant. For a 95% confidence interval, the standard significance level $\\alpha$ is 0.05. Since our calculated p-value is greater than 0.05, we failed to reject the null hypothesis "
   ]
  },
  {
   "cell_type": "markdown",
   "id": "15c9eb46",
   "metadata": {
    "papermill": {
     "duration": 0.021652,
     "end_time": "2024-09-18T15:18:34.291559",
     "exception": false,
     "start_time": "2024-09-18T15:18:34.269907",
     "status": "completed"
    },
    "tags": []
   },
   "source": [
    "### Is the result practically significant (Day 1 retention)?\n",
    "Since our result is not statistically significant (such a difference was only due to random chance), it's very hard to say that the result is practically significant since we can't be confident that the observed difference is even real. However, we can still try to test whether it's practically significant. We will implement Cohen's h, which is used to determine practical significance between two proportions (Gate 30 and Gate 40 retention rate after Day 1)."
   ]
  },
  {
   "cell_type": "code",
   "execution_count": 17,
   "id": "4760e93c",
   "metadata": {
    "execution": {
     "iopub.execute_input": "2024-09-18T15:18:34.338791Z",
     "iopub.status.busy": "2024-09-18T15:18:34.338294Z",
     "iopub.status.idle": "2024-09-18T15:18:34.347065Z",
     "shell.execute_reply": "2024-09-18T15:18:34.345706Z"
    },
    "papermill": {
     "duration": 0.035039,
     "end_time": "2024-09-18T15:18:34.349655",
     "exception": false,
     "start_time": "2024-09-18T15:18:34.314616",
     "status": "completed"
    },
    "tags": []
   },
   "outputs": [],
   "source": [
    "def cohen_h(p1, p2):\n",
    "    '''\n",
    "        Purpose:\n",
    "            Compute Cohen's h for two proportions\n",
    "            \n",
    "        Parameters:\n",
    "            p1: proportion of samples in group 1 p2: proportion of samples in group 2\n",
    "            \n",
    "        Returns:\n",
    "            Cohen's h value\n",
    "    '''\n",
    "    # handle error if proportions are not within the range [0, 1]\n",
    "    if not (0 <= p1 <= 1) or not (0 <= p2 <= 1):\n",
    "        raise ValueError(\"Proportions must be between 0 and 1\")\n",
    "    \n",
    "    # compute Cohen's h\n",
    "    h = 2 * np.arcsin(np.sqrt(p1)) - 2 * np.arcsin(np.sqrt(p2))\n",
    "    return h"
   ]
  },
  {
   "cell_type": "code",
   "execution_count": 18,
   "id": "8650818d",
   "metadata": {
    "execution": {
     "iopub.execute_input": "2024-09-18T15:18:34.396876Z",
     "iopub.status.busy": "2024-09-18T15:18:34.395580Z",
     "iopub.status.idle": "2024-09-18T15:18:34.403052Z",
     "shell.execute_reply": "2024-09-18T15:18:34.401774Z"
    },
    "papermill": {
     "duration": 0.034995,
     "end_time": "2024-09-18T15:18:34.405956",
     "exception": false,
     "start_time": "2024-09-18T15:18:34.370961",
     "status": "completed"
    },
    "tags": []
   },
   "outputs": [
    {
     "name": "stdout",
     "output_type": "stream",
     "text": [
      "Cohen's h (Retention 1): 0.0119\n"
     ]
    }
   ],
   "source": [
    "# calculate cohen's h for proportions of retained users after day 1\n",
    "h_value_day_1 = cohen_h(gate_30_retention_1_rate, gate_40_retention_1_rate)\n",
    "print(f\"Cohen's h (Retention 1): {h_value_day_1:.4f}\")"
   ]
  },
  {
   "cell_type": "markdown",
   "id": "1d5253ce",
   "metadata": {
    "papermill": {
     "duration": 0.021835,
     "end_time": "2024-09-18T15:18:34.451810",
     "exception": false,
     "start_time": "2024-09-18T15:18:34.429975",
     "status": "completed"
    },
    "tags": []
   },
   "source": [
    "As expected, our Cohen's h for retention 1 is very small and indicates a very small effect size. This suggests that the difference in retention rates between the two groups is so small that it's likely to be of minimal practical significance. In summary, the difference in retention rates between Gate 30 and Gate 40 players after day 1 is both non-statistically and non-practically significant. We will proceed with retention after day 7 hypothesis."
   ]
  },
  {
   "cell_type": "markdown",
   "id": "a1de0edd",
   "metadata": {
    "papermill": {
     "duration": 0.0223,
     "end_time": "2024-09-18T15:18:34.496943",
     "exception": false,
     "start_time": "2024-09-18T15:18:34.474643",
     "status": "completed"
    },
    "tags": []
   },
   "source": [
    "## Hypothesis 2: Difference in `retention_7` rate between the 2 groups"
   ]
  },
  {
   "cell_type": "code",
   "execution_count": 19,
   "id": "f4d95686",
   "metadata": {
    "execution": {
     "iopub.execute_input": "2024-09-18T15:18:34.545098Z",
     "iopub.status.busy": "2024-09-18T15:18:34.543728Z",
     "iopub.status.idle": "2024-09-18T15:18:34.595296Z",
     "shell.execute_reply": "2024-09-18T15:18:34.594128Z"
    },
    "papermill": {
     "duration": 0.078706,
     "end_time": "2024-09-18T15:18:34.598352",
     "exception": false,
     "start_time": "2024-09-18T15:18:34.519646",
     "status": "completed"
    },
    "tags": []
   },
   "outputs": [],
   "source": [
    "# number of samples of user who's at version gate 30 and retained after day 1\n",
    "gate_30_retention_7_users = df[df['version'] == 'gate_30']['retention_7'].sum()\n",
    "gate_40_retention_7_users = df[df['version'] == 'gate_40']['retention_7'].sum()"
   ]
  },
  {
   "cell_type": "code",
   "execution_count": 20,
   "id": "8e8e438f",
   "metadata": {
    "execution": {
     "iopub.execute_input": "2024-09-18T15:18:34.642907Z",
     "iopub.status.busy": "2024-09-18T15:18:34.642412Z",
     "iopub.status.idle": "2024-09-18T15:18:34.648580Z",
     "shell.execute_reply": "2024-09-18T15:18:34.647065Z"
    },
    "papermill": {
     "duration": 0.031693,
     "end_time": "2024-09-18T15:18:34.651328",
     "exception": false,
     "start_time": "2024-09-18T15:18:34.619635",
     "status": "completed"
    },
    "tags": []
   },
   "outputs": [],
   "source": [
    "# retention rate of users after day 1\n",
    "gate_30_retention_7_rate = gate_30_retention_7_users / gate_30_players\n",
    "gate_40_retention_7_rate = gate_40_retention_7_users / gate_40_players"
   ]
  },
  {
   "cell_type": "code",
   "execution_count": 21,
   "id": "4d37e175",
   "metadata": {
    "execution": {
     "iopub.execute_input": "2024-09-18T15:18:34.696586Z",
     "iopub.status.busy": "2024-09-18T15:18:34.696108Z",
     "iopub.status.idle": "2024-09-18T15:18:34.704714Z",
     "shell.execute_reply": "2024-09-18T15:18:34.703255Z"
    },
    "papermill": {
     "duration": 0.035112,
     "end_time": "2024-09-18T15:18:34.707605",
     "exception": false,
     "start_time": "2024-09-18T15:18:34.672493",
     "status": "completed"
    },
    "tags": []
   },
   "outputs": [
    {
     "data": {
      "text/plain": [
       "0.18200004396667327"
      ]
     },
     "execution_count": 21,
     "metadata": {},
     "output_type": "execute_result"
    }
   ],
   "source": [
    "gate_40_retention_7_rate"
   ]
  },
  {
   "cell_type": "markdown",
   "id": "2c5f7757",
   "metadata": {
    "papermill": {
     "duration": 0.02198,
     "end_time": "2024-09-18T15:18:34.752105",
     "exception": false,
     "start_time": "2024-09-18T15:18:34.730125",
     "status": "completed"
    },
    "tags": []
   },
   "source": [
    "Similarly, the statistical test we will perform for this hypothesis is the **Two-proportion Z-test**"
   ]
  },
  {
   "cell_type": "code",
   "execution_count": 22,
   "id": "c78ec516",
   "metadata": {
    "execution": {
     "iopub.execute_input": "2024-09-18T15:18:34.801379Z",
     "iopub.status.busy": "2024-09-18T15:18:34.800928Z",
     "iopub.status.idle": "2024-09-18T15:18:34.808809Z",
     "shell.execute_reply": "2024-09-18T15:18:34.807214Z"
    },
    "papermill": {
     "duration": 0.038135,
     "end_time": "2024-09-18T15:18:34.812835",
     "exception": false,
     "start_time": "2024-09-18T15:18:34.774700",
     "status": "completed"
    },
    "tags": []
   },
   "outputs": [
    {
     "name": "stdout",
     "output_type": "stream",
     "text": [
      "Z-statistic (Day 7): 3.1574100858819936\n",
      "P-value (Day 7): 0.0015917731773993442\n"
     ]
    }
   ],
   "source": [
    "# Two-proportion Z-test for retention 7 between the 2 groups\n",
    "z_stat_7, p_value_7 = proportions_ztest([gate_30_retention_7_users, gate_40_retention_7_users], [gate_30_players, gate_40_players])\n",
    "\n",
    "# extract the Z test statistic and its p-value\n",
    "print(f\"Z-statistic (Day 7): {z_stat_7}\\nP-value (Day 7): {p_value_7}\")"
   ]
  },
  {
   "cell_type": "markdown",
   "id": "4d11c156",
   "metadata": {
    "papermill": {
     "duration": 0.022084,
     "end_time": "2024-09-18T15:18:34.858546",
     "exception": false,
     "start_time": "2024-09-18T15:18:34.836462",
     "status": "completed"
    },
    "tags": []
   },
   "source": [
    "To test the significance, we can follow 2 common ways:\n",
    "1. Compare the test statistic to the critical value for your confidence interval\n",
    "- We have to compute the critical value\n",
    "2. Compare the p-value to the significance level ($\\alpha = 0.05$) for a 95% confidence interval\n",
    "\n",
    "We will proceed with the second way."
   ]
  },
  {
   "cell_type": "markdown",
   "id": "6442701f",
   "metadata": {
    "papermill": {
     "duration": 0.021815,
     "end_time": "2024-09-18T15:18:34.902754",
     "exception": false,
     "start_time": "2024-09-18T15:18:34.880939",
     "status": "completed"
    },
    "tags": []
   },
   "source": [
    "### Is the result statistically significant (Day 7 retention)?\n",
    "For a 95% confidence interval, the significance level is $\\alpha = 0.05$. Since our p-value is 0.001 < $\\alpha$, we reject the null hypothesis. In other words, the difference between the retention rates after day 7 of Gate 30 and Gate 40 players is statistically significant, and this happened not due to random chance alone."
   ]
  },
  {
   "cell_type": "markdown",
   "id": "c2adca1c",
   "metadata": {
    "papermill": {
     "duration": 0.02215,
     "end_time": "2024-09-18T15:18:34.946972",
     "exception": false,
     "start_time": "2024-09-18T15:18:34.924822",
     "status": "completed"
    },
    "tags": []
   },
   "source": [
    "### Is the result practically significant (Day 7 retention)?\n",
    "Even though the result is statistically significant, it may not be large enough to be of practical importance. Practical significance focuses on the effect size—how large the difference is and whether this difference matters in a real-world context. Therefore, we need to apply Cohen's h again to determine the practical significance between 2 proportions."
   ]
  },
  {
   "cell_type": "code",
   "execution_count": 23,
   "id": "cd54fb69",
   "metadata": {
    "execution": {
     "iopub.execute_input": "2024-09-18T15:18:34.993552Z",
     "iopub.status.busy": "2024-09-18T15:18:34.993131Z",
     "iopub.status.idle": "2024-09-18T15:18:34.999816Z",
     "shell.execute_reply": "2024-09-18T15:18:34.998391Z"
    },
    "papermill": {
     "duration": 0.035269,
     "end_time": "2024-09-18T15:18:35.004400",
     "exception": false,
     "start_time": "2024-09-18T15:18:34.969131",
     "status": "completed"
    },
    "tags": []
   },
   "outputs": [
    {
     "name": "stdout",
     "output_type": "stream",
     "text": [
      "Cohen's h (Retention 7): 0.0210\n"
     ]
    }
   ],
   "source": [
    "h_value_day_7 = cohen_h(gate_30_retention_7_rate, gate_40_retention_7_rate)\n",
    "print(f\"Cohen's h (Retention 7): {h_value_day_7:.4f}\")"
   ]
  },
  {
   "cell_type": "markdown",
   "id": "a6a927ee",
   "metadata": {
    "papermill": {
     "duration": 0.02179,
     "end_time": "2024-09-18T15:18:35.049205",
     "exception": false,
     "start_time": "2024-09-18T15:18:35.027415",
     "status": "completed"
    },
    "tags": []
   },
   "source": [
    "Again, our Cohen's h value for day 7 retention has an extremely small effect. The difference between 2 proportions is negligible in practical importance. In summary, the result for day 7 retention is statistically significant but not enough for practical significance."
   ]
  },
  {
   "cell_type": "markdown",
   "id": "730bef3a",
   "metadata": {
    "papermill": {
     "duration": 0.02282,
     "end_time": "2024-09-18T15:18:35.095730",
     "exception": false,
     "start_time": "2024-09-18T15:18:35.072910",
     "status": "completed"
    },
    "tags": []
   },
   "source": [
    "## Hypothesis 3: Difference in the number of game rounds between the 2 groups (`num_gameround`)"
   ]
  },
  {
   "cell_type": "raw",
   "id": "f0436b3e",
   "metadata": {
    "execution": {
     "iopub.execute_input": "2024-09-18T00:45:00.246963Z",
     "iopub.status.busy": "2024-09-18T00:45:00.246500Z",
     "iopub.status.idle": "2024-09-18T00:45:00.264275Z",
     "shell.execute_reply": "2024-09-18T00:45:00.262935Z",
     "shell.execute_reply.started": "2024-09-18T00:45:00.246932Z"
    },
    "papermill": {
     "duration": 0.022623,
     "end_time": "2024-09-18T15:18:35.140839",
     "exception": false,
     "start_time": "2024-09-18T15:18:35.118216",
     "status": "completed"
    },
    "tags": []
   },
   "source": [
    "df.groupby('version').userid.count()"
   ]
  },
  {
   "cell_type": "markdown",
   "id": "fac79408",
   "metadata": {
    "papermill": {
     "duration": 0.022746,
     "end_time": "2024-09-18T15:18:35.187011",
     "exception": false,
     "start_time": "2024-09-18T15:18:35.164265",
     "status": "completed"
    },
    "tags": []
   },
   "source": [
    "There's 44699 players reached Gate 30 level, and 45489 players reached Gate 40 level. There is quite a large number of people who didn't progress to Gate 30 level. We will look into this issue and understand the cases."
   ]
  },
  {
   "cell_type": "markdown",
   "id": "9b23ed14",
   "metadata": {
    "papermill": {
     "duration": 0.021854,
     "end_time": "2024-09-18T15:18:35.234490",
     "exception": false,
     "start_time": "2024-09-18T15:18:35.212636",
     "status": "completed"
    },
    "tags": []
   },
   "source": [
    "### How many players who installed the game but didn't play a single round?"
   ]
  },
  {
   "cell_type": "code",
   "execution_count": 24,
   "id": "24b87934",
   "metadata": {
    "execution": {
     "iopub.execute_input": "2024-09-18T15:18:35.282273Z",
     "iopub.status.busy": "2024-09-18T15:18:35.281490Z",
     "iopub.status.idle": "2024-09-18T15:18:35.292883Z",
     "shell.execute_reply": "2024-09-18T15:18:35.291524Z"
    },
    "papermill": {
     "duration": 0.038491,
     "end_time": "2024-09-18T15:18:35.296104",
     "exception": false,
     "start_time": "2024-09-18T15:18:35.257613",
     "status": "completed"
    },
    "tags": []
   },
   "outputs": [
    {
     "data": {
      "text/plain": [
       "3994"
      ]
     },
     "execution_count": 24,
     "metadata": {},
     "output_type": "execute_result"
    }
   ],
   "source": [
    "df[df['sum_gamerounds'] == 0].userid.count()"
   ]
  },
  {
   "cell_type": "markdown",
   "id": "f374364f",
   "metadata": {
    "papermill": {
     "duration": 0.022033,
     "end_time": "2024-09-18T15:18:35.340657",
     "exception": false,
     "start_time": "2024-09-18T15:18:35.318624",
     "status": "completed"
    },
    "tags": []
   },
   "source": [
    "There are 3994 players who installed the game but didn't play a single round! This is a big number compared to our dataset containing 90189 players. We also want to see the trend of people who played a few games, but then quitted playing before reaching Gate 30."
   ]
  },
  {
   "cell_type": "code",
   "execution_count": 25,
   "id": "050615b0",
   "metadata": {
    "execution": {
     "iopub.execute_input": "2024-09-18T15:18:35.386647Z",
     "iopub.status.busy": "2024-09-18T15:18:35.386155Z",
     "iopub.status.idle": "2024-09-18T15:18:36.302939Z",
     "shell.execute_reply": "2024-09-18T15:18:36.301696Z"
    },
    "papermill": {
     "duration": 0.943628,
     "end_time": "2024-09-18T15:18:36.305982",
     "exception": false,
     "start_time": "2024-09-18T15:18:35.362354",
     "status": "completed"
    },
    "tags": []
   },
   "outputs": [
    {
     "data": {
      "image/png": "[encoded data removed]",
      "text/plain": [
       "<Figure size 2500x1000 with 2 Axes>"
      ]
     },
     "metadata": {},
     "output_type": "display_data"
    }
   ],
   "source": [
    "fig, axes = plt.subplots(2, 1, figsize = (25,10))\n",
    "\n",
    "# trend of the number of game rounds\n",
    "df.groupby(\"sum_gamerounds\").userid.count().plot(ax = axes[0])\n",
    "df.groupby(\"sum_gamerounds\").userid.count()[:200].plot(ax = axes[1])\n",
    "plt.suptitle(\"The number of users in the game rounds played\", fontsize = 25)\n",
    "axes[0].set_title(\"How many users are there all game rounds?\", fontsize = 15)\n",
    "axes[1].set_title(\"How many users are there first 200 game rounds?\", fontsize = 15)\n",
    "plt.tight_layout(pad=5);"
   ]
  },
  {
   "cell_type": "markdown",
   "id": "87da8e85",
   "metadata": {
    "papermill": {
     "duration": 0.025155,
     "end_time": "2024-09-18T15:18:36.356416",
     "exception": false,
     "start_time": "2024-09-18T15:18:36.331261",
     "status": "completed"
    },
    "tags": []
   },
   "source": [
    "We can see that the number of players got dropped significantly under 1000 after only 25 game rounds."
   ]
  },
  {
   "cell_type": "code",
   "execution_count": 26,
   "id": "b94002b6",
   "metadata": {
    "execution": {
     "iopub.execute_input": "2024-09-18T15:18:36.409083Z",
     "iopub.status.busy": "2024-09-18T15:18:36.408631Z",
     "iopub.status.idle": "2024-09-18T15:18:36.425904Z",
     "shell.execute_reply": "2024-09-18T15:18:36.423763Z"
    },
    "papermill": {
     "duration": 0.047685,
     "end_time": "2024-09-18T15:18:36.428630",
     "exception": false,
     "start_time": "2024-09-18T15:18:36.380945",
     "status": "completed"
    },
    "tags": []
   },
   "outputs": [
    {
     "data": {
      "text/html": [
       "<div>\n",
       "<style scoped>\n",
       "    .dataframe tbody tr th:only-of-type {\n",
       "        vertical-align: middle;\n",
       "    }\n",
       "\n",
       "    .dataframe tbody tr th {\n",
       "        vertical-align: top;\n",
       "    }\n",
       "\n",
       "    .dataframe thead th {\n",
       "        text-align: right;\n",
       "    }\n",
       "</style>\n",
       "<table border=\"1\" class=\"dataframe\">\n",
       "  <thead>\n",
       "    <tr style=\"text-align: right;\">\n",
       "      <th></th>\n",
       "      <th>userid</th>\n",
       "      <th>version</th>\n",
       "      <th>sum_gamerounds</th>\n",
       "      <th>retention_1</th>\n",
       "      <th>retention_7</th>\n",
       "    </tr>\n",
       "  </thead>\n",
       "  <tbody>\n",
       "    <tr>\n",
       "      <th>0</th>\n",
       "      <td>116</td>\n",
       "      <td>gate_30</td>\n",
       "      <td>3</td>\n",
       "      <td>0</td>\n",
       "      <td>0</td>\n",
       "    </tr>\n",
       "    <tr>\n",
       "      <th>1</th>\n",
       "      <td>337</td>\n",
       "      <td>gate_30</td>\n",
       "      <td>38</td>\n",
       "      <td>1</td>\n",
       "      <td>0</td>\n",
       "    </tr>\n",
       "    <tr>\n",
       "      <th>2</th>\n",
       "      <td>377</td>\n",
       "      <td>gate_40</td>\n",
       "      <td>165</td>\n",
       "      <td>1</td>\n",
       "      <td>0</td>\n",
       "    </tr>\n",
       "    <tr>\n",
       "      <th>3</th>\n",
       "      <td>483</td>\n",
       "      <td>gate_40</td>\n",
       "      <td>1</td>\n",
       "      <td>0</td>\n",
       "      <td>0</td>\n",
       "    </tr>\n",
       "    <tr>\n",
       "      <th>4</th>\n",
       "      <td>488</td>\n",
       "      <td>gate_40</td>\n",
       "      <td>179</td>\n",
       "      <td>1</td>\n",
       "      <td>1</td>\n",
       "    </tr>\n",
       "    <tr>\n",
       "      <th>...</th>\n",
       "      <td>...</td>\n",
       "      <td>...</td>\n",
       "      <td>...</td>\n",
       "      <td>...</td>\n",
       "      <td>...</td>\n",
       "    </tr>\n",
       "    <tr>\n",
       "      <th>90184</th>\n",
       "      <td>9999441</td>\n",
       "      <td>gate_40</td>\n",
       "      <td>97</td>\n",
       "      <td>1</td>\n",
       "      <td>0</td>\n",
       "    </tr>\n",
       "    <tr>\n",
       "      <th>90185</th>\n",
       "      <td>9999479</td>\n",
       "      <td>gate_40</td>\n",
       "      <td>30</td>\n",
       "      <td>0</td>\n",
       "      <td>0</td>\n",
       "    </tr>\n",
       "    <tr>\n",
       "      <th>90186</th>\n",
       "      <td>9999710</td>\n",
       "      <td>gate_30</td>\n",
       "      <td>28</td>\n",
       "      <td>1</td>\n",
       "      <td>0</td>\n",
       "    </tr>\n",
       "    <tr>\n",
       "      <th>90187</th>\n",
       "      <td>9999768</td>\n",
       "      <td>gate_40</td>\n",
       "      <td>51</td>\n",
       "      <td>1</td>\n",
       "      <td>0</td>\n",
       "    </tr>\n",
       "    <tr>\n",
       "      <th>90188</th>\n",
       "      <td>9999861</td>\n",
       "      <td>gate_40</td>\n",
       "      <td>16</td>\n",
       "      <td>0</td>\n",
       "      <td>0</td>\n",
       "    </tr>\n",
       "  </tbody>\n",
       "</table>\n",
       "<p>90188 rows × 5 columns</p>\n",
       "</div>"
      ],
      "text/plain": [
       "        userid  version  sum_gamerounds  retention_1  retention_7\n",
       "0          116  gate_30               3            0            0\n",
       "1          337  gate_30              38            1            0\n",
       "2          377  gate_40             165            1            0\n",
       "3          483  gate_40               1            0            0\n",
       "4          488  gate_40             179            1            1\n",
       "...        ...      ...             ...          ...          ...\n",
       "90184  9999441  gate_40              97            1            0\n",
       "90185  9999479  gate_40              30            0            0\n",
       "90186  9999710  gate_30              28            1            0\n",
       "90187  9999768  gate_40              51            1            0\n",
       "90188  9999861  gate_40              16            0            0\n",
       "\n",
       "[90188 rows x 5 columns]"
      ]
     },
     "execution_count": 26,
     "metadata": {},
     "output_type": "execute_result"
    }
   ],
   "source": [
    "df"
   ]
  },
  {
   "cell_type": "code",
   "execution_count": 27,
   "id": "41d516f4",
   "metadata": {
    "execution": {
     "iopub.execute_input": "2024-09-18T15:18:36.478136Z",
     "iopub.status.busy": "2024-09-18T15:18:36.477694Z",
     "iopub.status.idle": "2024-09-18T15:18:36.496885Z",
     "shell.execute_reply": "2024-09-18T15:18:36.495462Z"
    },
    "papermill": {
     "duration": 0.047457,
     "end_time": "2024-09-18T15:18:36.499963",
     "exception": false,
     "start_time": "2024-09-18T15:18:36.452506",
     "status": "completed"
    },
    "tags": []
   },
   "outputs": [
    {
     "data": {
      "text/html": [
       "<div>\n",
       "<style scoped>\n",
       "    .dataframe tbody tr th:only-of-type {\n",
       "        vertical-align: middle;\n",
       "    }\n",
       "\n",
       "    .dataframe tbody tr th {\n",
       "        vertical-align: top;\n",
       "    }\n",
       "\n",
       "    .dataframe thead th {\n",
       "        text-align: right;\n",
       "    }\n",
       "</style>\n",
       "<table border=\"1\" class=\"dataframe\">\n",
       "  <thead>\n",
       "    <tr style=\"text-align: right;\">\n",
       "      <th></th>\n",
       "      <th>sum_gamerounds</th>\n",
       "      <th>num_users</th>\n",
       "    </tr>\n",
       "  </thead>\n",
       "  <tbody>\n",
       "    <tr>\n",
       "      <th>0</th>\n",
       "      <td>0</td>\n",
       "      <td>3994</td>\n",
       "    </tr>\n",
       "    <tr>\n",
       "      <th>1</th>\n",
       "      <td>1</td>\n",
       "      <td>5538</td>\n",
       "    </tr>\n",
       "    <tr>\n",
       "      <th>2</th>\n",
       "      <td>2</td>\n",
       "      <td>4606</td>\n",
       "    </tr>\n",
       "    <tr>\n",
       "      <th>3</th>\n",
       "      <td>3</td>\n",
       "      <td>3958</td>\n",
       "    </tr>\n",
       "    <tr>\n",
       "      <th>4</th>\n",
       "      <td>4</td>\n",
       "      <td>3629</td>\n",
       "    </tr>\n",
       "    <tr>\n",
       "      <th>5</th>\n",
       "      <td>5</td>\n",
       "      <td>2992</td>\n",
       "    </tr>\n",
       "    <tr>\n",
       "      <th>6</th>\n",
       "      <td>6</td>\n",
       "      <td>2861</td>\n",
       "    </tr>\n",
       "    <tr>\n",
       "      <th>7</th>\n",
       "      <td>7</td>\n",
       "      <td>2379</td>\n",
       "    </tr>\n",
       "    <tr>\n",
       "      <th>8</th>\n",
       "      <td>8</td>\n",
       "      <td>2267</td>\n",
       "    </tr>\n",
       "    <tr>\n",
       "      <th>9</th>\n",
       "      <td>9</td>\n",
       "      <td>2013</td>\n",
       "    </tr>\n",
       "    <tr>\n",
       "      <th>10</th>\n",
       "      <td>10</td>\n",
       "      <td>1752</td>\n",
       "    </tr>\n",
       "    <tr>\n",
       "      <th>11</th>\n",
       "      <td>11</td>\n",
       "      <td>1654</td>\n",
       "    </tr>\n",
       "    <tr>\n",
       "      <th>12</th>\n",
       "      <td>12</td>\n",
       "      <td>1570</td>\n",
       "    </tr>\n",
       "    <tr>\n",
       "      <th>13</th>\n",
       "      <td>13</td>\n",
       "      <td>1594</td>\n",
       "    </tr>\n",
       "    <tr>\n",
       "      <th>14</th>\n",
       "      <td>14</td>\n",
       "      <td>1519</td>\n",
       "    </tr>\n",
       "    <tr>\n",
       "      <th>15</th>\n",
       "      <td>15</td>\n",
       "      <td>1446</td>\n",
       "    </tr>\n",
       "    <tr>\n",
       "      <th>16</th>\n",
       "      <td>16</td>\n",
       "      <td>1342</td>\n",
       "    </tr>\n",
       "    <tr>\n",
       "      <th>17</th>\n",
       "      <td>17</td>\n",
       "      <td>1269</td>\n",
       "    </tr>\n",
       "    <tr>\n",
       "      <th>18</th>\n",
       "      <td>18</td>\n",
       "      <td>1228</td>\n",
       "    </tr>\n",
       "    <tr>\n",
       "      <th>19</th>\n",
       "      <td>19</td>\n",
       "      <td>1158</td>\n",
       "    </tr>\n",
       "    <tr>\n",
       "      <th>20</th>\n",
       "      <td>20</td>\n",
       "      <td>1033</td>\n",
       "    </tr>\n",
       "    <tr>\n",
       "      <th>21</th>\n",
       "      <td>21</td>\n",
       "      <td>1032</td>\n",
       "    </tr>\n",
       "    <tr>\n",
       "      <th>22</th>\n",
       "      <td>22</td>\n",
       "      <td>934</td>\n",
       "    </tr>\n",
       "    <tr>\n",
       "      <th>23</th>\n",
       "      <td>23</td>\n",
       "      <td>879</td>\n",
       "    </tr>\n",
       "    <tr>\n",
       "      <th>24</th>\n",
       "      <td>24</td>\n",
       "      <td>794</td>\n",
       "    </tr>\n",
       "    <tr>\n",
       "      <th>25</th>\n",
       "      <td>25</td>\n",
       "      <td>792</td>\n",
       "    </tr>\n",
       "  </tbody>\n",
       "</table>\n",
       "</div>"
      ],
      "text/plain": [
       "    sum_gamerounds  num_users\n",
       "0                0       3994\n",
       "1                1       5538\n",
       "2                2       4606\n",
       "3                3       3958\n",
       "4                4       3629\n",
       "5                5       2992\n",
       "6                6       2861\n",
       "7                7       2379\n",
       "8                8       2267\n",
       "9                9       2013\n",
       "10              10       1752\n",
       "11              11       1654\n",
       "12              12       1570\n",
       "13              13       1594\n",
       "14              14       1519\n",
       "15              15       1446\n",
       "16              16       1342\n",
       "17              17       1269\n",
       "18              18       1228\n",
       "19              19       1158\n",
       "20              20       1033\n",
       "21              21       1032\n",
       "22              22        934\n",
       "23              23        879\n",
       "24              24        794\n",
       "25              25        792"
      ]
     },
     "execution_count": 27,
     "metadata": {},
     "output_type": "execute_result"
    }
   ],
   "source": [
    "num_users_per_game_rounds = df.groupby('sum_gamerounds').userid.count().reset_index().head(26)\n",
    "num_users_per_game_rounds.rename(columns={'userid': 'num_users'}, inplace=True)\n",
    "num_users_per_game_rounds"
   ]
  },
  {
   "cell_type": "markdown",
   "id": "ac5b9f58",
   "metadata": {
    "papermill": {
     "duration": 0.02569,
     "end_time": "2024-09-18T15:18:36.551662",
     "exception": false,
     "start_time": "2024-09-18T15:18:36.525972",
     "status": "completed"
    },
    "tags": []
   },
   "source": [
    "The number of users is in decreasing order, as there are fewer people continuing to play the game after a few game rounds. Why?"
   ]
  },
  {
   "cell_type": "markdown",
   "id": "efafddbf",
   "metadata": {
    "papermill": {
     "duration": 0.024646,
     "end_time": "2024-09-18T15:18:36.601978",
     "exception": false,
     "start_time": "2024-09-18T15:18:36.577332",
     "status": "completed"
    },
    "tags": []
   },
   "source": [
    "### Potential marketing strategies to enhance game experience & engagement with users\n",
    "One of the main reasons of why so many people quitted playing is that there's no incentives after achieving a certain number of game rounds."
   ]
  },
  {
   "cell_type": "markdown",
   "id": "7d1ac0c5",
   "metadata": {
    "papermill": {
     "duration": 0.02394,
     "end_time": "2024-09-18T15:18:36.650823",
     "exception": false,
     "start_time": "2024-09-18T15:18:36.626883",
     "status": "completed"
    },
    "tags": []
   },
   "source": [
    "In Cookie Cats, to achieve Gate 30 level, one has to play 30 rounds in one sitting! For Gate 40 level, one has to play 40 rounds in one sitting! Therefore it's hard to achieve such Gate 30 and 40 levels. We will check how many people progress through these two levels."
   ]
  },
  {
   "cell_type": "code",
   "execution_count": 28,
   "id": "7a9c5897",
   "metadata": {
    "execution": {
     "iopub.execute_input": "2024-09-18T15:18:36.700577Z",
     "iopub.status.busy": "2024-09-18T15:18:36.700168Z",
     "iopub.status.idle": "2024-09-18T15:18:36.713160Z",
     "shell.execute_reply": "2024-09-18T15:18:36.711801Z"
    },
    "papermill": {
     "duration": 0.041166,
     "end_time": "2024-09-18T15:18:36.715780",
     "exception": false,
     "start_time": "2024-09-18T15:18:36.674614",
     "status": "completed"
    },
    "tags": []
   },
   "outputs": [
    {
     "data": {
      "text/plain": [
       "sum_gamerounds\n",
       "30    642\n",
       "40    505\n",
       "Name: userid, dtype: int64"
      ]
     },
     "execution_count": 28,
     "metadata": {},
     "output_type": "execute_result"
    }
   ],
   "source": [
    "df.groupby('sum_gamerounds').userid.count().loc[[30, 40]]"
   ]
  },
  {
   "cell_type": "markdown",
   "id": "aa6733ae",
   "metadata": {
    "papermill": {
     "duration": 0.024875,
     "end_time": "2024-09-18T15:18:36.766204",
     "exception": false,
     "start_time": "2024-09-18T15:18:36.741329",
     "status": "completed"
    },
    "tags": []
   },
   "source": [
    "There are only 642 players reached Gate 30 level, and 505 of those reached Gate 40 level."
   ]
  },
  {
   "cell_type": "code",
   "execution_count": 29,
   "id": "9eea6704",
   "metadata": {
    "execution": {
     "iopub.execute_input": "2024-09-18T15:18:36.818116Z",
     "iopub.status.busy": "2024-09-18T15:18:36.817666Z",
     "iopub.status.idle": "2024-09-18T15:18:36.870073Z",
     "shell.execute_reply": "2024-09-18T15:18:36.868587Z"
    },
    "papermill": {
     "duration": 0.082322,
     "end_time": "2024-09-18T15:18:36.873611",
     "exception": false,
     "start_time": "2024-09-18T15:18:36.791289",
     "status": "completed"
    },
    "tags": []
   },
   "outputs": [],
   "source": [
    "df_gate_30 = df[df['version'] == 'gate_30']\n",
    "df_gate_40 = df[df['version'] == 'gate_40']"
   ]
  },
  {
   "cell_type": "code",
   "execution_count": 30,
   "id": "d5ed5fc6",
   "metadata": {
    "execution": {
     "iopub.execute_input": "2024-09-18T15:18:36.928792Z",
     "iopub.status.busy": "2024-09-18T15:18:36.927606Z",
     "iopub.status.idle": "2024-09-18T15:18:37.358345Z",
     "shell.execute_reply": "2024-09-18T15:18:37.356928Z"
    },
    "papermill": {
     "duration": 0.461014,
     "end_time": "2024-09-18T15:18:37.361879",
     "exception": false,
     "start_time": "2024-09-18T15:18:36.900865",
     "status": "completed"
    },
    "tags": []
   },
   "outputs": [
    {
     "data": {
      "image/png": "[encoded data removed]",
      "text/plain": [
       "<Figure size 640x480 with 1 Axes>"
      ]
     },
     "metadata": {},
     "output_type": "display_data"
    }
   ],
   "source": [
    "sns.scatterplot(x='userid', y='sum_gamerounds', hue='version', data=df[:50])\n",
    "# Label the plot\n",
    "plt.title('Number of Game Rounds by Version (Gate 30 vs Gate 40) for the first 200 players')\n",
    "plt.xlabel('User ID')\n",
    "plt.ylabel('Sum of Game Rounds')\n",
    "\n",
    "# Show the plot\n",
    "plt.show()"
   ]
  },
  {
   "cell_type": "markdown",
   "id": "2eb436b4",
   "metadata": {
    "papermill": {
     "duration": 0.028135,
     "end_time": "2024-09-18T15:18:37.417192",
     "exception": false,
     "start_time": "2024-09-18T15:18:37.389057",
     "status": "completed"
    },
    "tags": []
   },
   "source": [
    "The data for the number of game rounds by version does not follow a normal distribution, so we eliminate the implementation of two-sample t-test (which is used to compare two means assuming data follows a normal distribution). We want to test whether the variance of the game rounds between Gate 30 and Gate 40 players is the same to reject the two-sample t-test."
   ]
  },
  {
   "cell_type": "markdown",
   "id": "141cca1d",
   "metadata": {
    "papermill": {
     "duration": 0.027924,
     "end_time": "2024-09-18T15:18:37.474086",
     "exception": false,
     "start_time": "2024-09-18T15:18:37.446162",
     "status": "completed"
    },
    "tags": []
   },
   "source": [
    "We will proceed with testing our final hypothesis, whether or not the difference in the number of game rounds between the two groups is statistically significant and also practically significant. Since the type of data for number of gamerounds is numerical (but not continuous), the appropriate statistical test for this hypothesis is Mann-Whitney U Test."
   ]
  },
  {
   "cell_type": "markdown",
   "id": "48b81795",
   "metadata": {
    "papermill": {
     "duration": 0.0261,
     "end_time": "2024-09-18T15:18:37.526595",
     "exception": false,
     "start_time": "2024-09-18T15:18:37.500495",
     "status": "completed"
    },
    "tags": []
   },
   "source": [
    "### Mann-Whitney U Test for assessing differences in mean of game rounds between Gate 30 and Gate 40 players"
   ]
  },
  {
   "cell_type": "code",
   "execution_count": 31,
   "id": "65e25cb8",
   "metadata": {
    "execution": {
     "iopub.execute_input": "2024-09-18T15:18:37.581634Z",
     "iopub.status.busy": "2024-09-18T15:18:37.581156Z",
     "iopub.status.idle": "2024-09-18T15:18:37.602142Z",
     "shell.execute_reply": "2024-09-18T15:18:37.600857Z"
    },
    "papermill": {
     "duration": 0.05179,
     "end_time": "2024-09-18T15:18:37.604892",
     "exception": false,
     "start_time": "2024-09-18T15:18:37.553102",
     "status": "completed"
    },
    "tags": []
   },
   "outputs": [],
   "source": [
    "gate_30_gamerounds = list(df_gate_30.sum_gamerounds)\n",
    "gate_40_gamerounds = list(df_gate_40.sum_gamerounds)"
   ]
  },
  {
   "cell_type": "code",
   "execution_count": 32,
   "id": "e3c954fd",
   "metadata": {
    "execution": {
     "iopub.execute_input": "2024-09-18T15:18:37.658259Z",
     "iopub.status.busy": "2024-09-18T15:18:37.657859Z",
     "iopub.status.idle": "2024-09-18T15:18:37.663596Z",
     "shell.execute_reply": "2024-09-18T15:18:37.662157Z"
    },
    "papermill": {
     "duration": 0.03585,
     "end_time": "2024-09-18T15:18:37.666339",
     "exception": false,
     "start_time": "2024-09-18T15:18:37.630489",
     "status": "completed"
    },
    "tags": []
   },
   "outputs": [],
   "source": [
    "# U1, p = mannwhitneyu(gate_30_gamerounds, gate_40_gamerounds, method=\"exact\")"
   ]
  }
 ],
 "metadata": {
  "kaggle": {
   "accelerator": "none",
   "dataSources": [
    {
     "datasetId": 5104698,
     "sourceId": 8544064,
     "sourceType": "datasetVersion"
    }
   ],
   "dockerImageVersionId": 30698,
   "isGpuEnabled": false,
   "isInternetEnabled": true,
   "language": "python",
   "sourceType": "notebook"
  },
  "kernelspec": {
   "display_name": "Python 3",
   "language": "python",
   "name": "python3"
  },
  "language_info": {
   "codemirror_mode": {
    "name": "ipython",
    "version": 3
   },
   "file_extension": ".py",
   "mimetype": "text/x-python",
   "name": "python",
   "nbconvert_exporter": "python",
   "pygments_lexer": "ipython3",
   "version": "3.10.13"
  },
  "papermill": {
   "default_parameters": {},
   "duration": 14.919271,
   "end_time": "2024-09-18T15:18:38.515634",
   "environment_variables": {},
   "exception": null,
   "input_path": "__notebook__.ipynb",
   "output_path": "__notebook__.ipynb",
   "parameters": {},
   "start_time": "2024-09-18T15:18:23.596363",
   "version": "2.5.0"
  }
 },
 "nbformat": 4,
 "nbformat_minor": 5
}
