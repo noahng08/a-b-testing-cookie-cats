{
 "cells": [
  {
   "cell_type": "code",
   "execution_count": 1,
   "id": "c8e032bb",
   "metadata": {
    "_cell_guid": "b1076dfc-b9ad-4769-8c92-a6c4dae69d19",
    "_uuid": "8f2839f25d086af736a60e9eeb907d3b93b6e0e5",
    "execution": {
     "iopub.execute_input": "2024-09-16T23:04:38.370060Z",
     "iopub.status.busy": "2024-09-16T23:04:38.369632Z",
     "iopub.status.idle": "2024-09-16T23:04:40.568654Z",
     "shell.execute_reply": "2024-09-16T23:04:40.567633Z"
    },
    "papermill": {
     "duration": 2.211806,
     "end_time": "2024-09-16T23:04:40.571194",
     "exception": false,
     "start_time": "2024-09-16T23:04:38.359388",
     "status": "completed"
    },
    "tags": []
   },
   "outputs": [
    {
     "name": "stdout",
     "output_type": "stream",
     "text": [
      "/kaggle/input/cookie-cats-dataset/cookie_cats.csv\n"
     ]
    }
   ],
   "source": [
    "# This Python 3 environment comes with many helpful analytics libraries installed\n",
    "# It is defined by the kaggle/python Docker image: https://github.com/kaggle/docker-python\n",
    "# For example, here's several helpful packages to load\n",
    "\n",
    "import numpy as np # linear algebra\n",
    "import pandas as pd # data processing, CSV file I/O (e.g. pd.read_csv)\n",
    "import matplotlib.pyplot as plt\n",
    "import seaborn as sns\n",
    "from statsmodels.stats.proportion import proportions_ztest\n",
    "# Input data files are available in the read-only \"../input/\" directory\n",
    "# For example, running this (by clicking run or pressing Shift+Enter) will list all files under the input directory\n",
    "\n",
    "import os\n",
    "for dirname, _, filenames in os.walk('/kaggle/input'):\n",
    "    for filename in filenames:\n",
    "        print(os.path.join(dirname, filename))\n",
    "\n",
    "# You can write up to 20GB to the current directory (/kaggle/working/) that gets preserved as output when you create a version using \"Save & Run All\" \n",
    "# You can also write temporary files to /kaggle/temp/, but they won't be saved outside of the current session"
   ]
  },
  {
   "cell_type": "markdown",
   "id": "33987521",
   "metadata": {
    "papermill": {
     "duration": 0.008856,
     "end_time": "2024-09-16T23:04:40.589178",
     "exception": false,
     "start_time": "2024-09-16T23:04:40.580322",
     "status": "completed"
    },
    "tags": []
   },
   "source": [
    "## Form hypotheses\n",
    "We don't want our approach to be biased; therefore we should form a hypothesis BEFORE looking at data. The end goal is to determine whether the difference between the retention rate of Gate 30 and Gate 40 players is significant after day 1 and after day 7.\n",
    "\n",
    "Day 1 Retention:\n",
    "- Null hypothesis ($H_0$): There's no difference in `retention_1` between the 2 groups (Gate 30 and Gate 40) i.e. $p_{gate_{30}}$ = $p_{gate_{40}}$\n",
    "- Alternate hypothesis ($H_1$): There's a significant difference in `retention_1` between the 2 groups (Gate 30 and Gate 40) i.e. $p_{gate_{30}}$ $\\neq$ $p_{gate_{40}}$\n",
    "\n",
    "Day 7 Retention\n",
    "- Null hypothesis ($H_0$): There's no difference in `retention_1` between the 2 groups (Gate 30 and Gate 40) i.e. $p_{gate_{30}}$ = $p_{gate_{40}}$\n",
    "- Alternate hypothesis ($H_1$): There's a significant difference in `retention_1` between the 2 groups (Gate 30 and Gate 40) i.e. $p_{gate_{30}}$ $\\neq$ $p_{gate_{40}}$\n",
    "\n",
    "Number of game rounds\n",
    "- Null hypothesis ($H_0$): The average number of game rounds is the same between the 2 groups\n",
    "- Alternate hypothesis ($H_1$): The average number of game rounds is significantly different between the 2 groups\n",
    "\n",
    "We will proceed with extracting relevant data. We will also consider this whole dataset as a sample and any conclusion from this sample can represent the population (which is the new data coming in later on)."
   ]
  },
  {
   "cell_type": "code",
   "execution_count": 2,
   "id": "00515741",
   "metadata": {
    "execution": {
     "iopub.execute_input": "2024-09-16T23:04:40.608436Z",
     "iopub.status.busy": "2024-09-16T23:04:40.607915Z",
     "iopub.status.idle": "2024-09-16T23:04:40.706062Z",
     "shell.execute_reply": "2024-09-16T23:04:40.704951Z"
    },
    "papermill": {
     "duration": 0.110685,
     "end_time": "2024-09-16T23:04:40.708808",
     "exception": false,
     "start_time": "2024-09-16T23:04:40.598123",
     "status": "completed"
    },
    "tags": []
   },
   "outputs": [],
   "source": [
    "df = pd.read_csv('/kaggle/input/cookie-cats-dataset/cookie_cats.csv')"
   ]
  },
  {
   "cell_type": "code",
   "execution_count": 3,
   "id": "99ea4e9e",
   "metadata": {
    "execution": {
     "iopub.execute_input": "2024-09-16T23:04:40.727919Z",
     "iopub.status.busy": "2024-09-16T23:04:40.727032Z",
     "iopub.status.idle": "2024-09-16T23:04:40.748091Z",
     "shell.execute_reply": "2024-09-16T23:04:40.747063Z"
    },
    "papermill": {
     "duration": 0.032879,
     "end_time": "2024-09-16T23:04:40.750297",
     "exception": false,
     "start_time": "2024-09-16T23:04:40.717418",
     "status": "completed"
    },
    "tags": []
   },
   "outputs": [
    {
     "data": {
      "text/html": [
       "<div>\n",
       "<style scoped>\n",
       "    .dataframe tbody tr th:only-of-type {\n",
       "        vertical-align: middle;\n",
       "    }\n",
       "\n",
       "    .dataframe tbody tr th {\n",
       "        vertical-align: top;\n",
       "    }\n",
       "\n",
       "    .dataframe thead th {\n",
       "        text-align: right;\n",
       "    }\n",
       "</style>\n",
       "<table border=\"1\" class=\"dataframe\">\n",
       "  <thead>\n",
       "    <tr style=\"text-align: right;\">\n",
       "      <th></th>\n",
       "      <th>userid</th>\n",
       "      <th>version</th>\n",
       "      <th>sum_gamerounds</th>\n",
       "      <th>retention_1</th>\n",
       "      <th>retention_7</th>\n",
       "    </tr>\n",
       "  </thead>\n",
       "  <tbody>\n",
       "    <tr>\n",
       "      <th>0</th>\n",
       "      <td>116</td>\n",
       "      <td>gate_30</td>\n",
       "      <td>3</td>\n",
       "      <td>False</td>\n",
       "      <td>False</td>\n",
       "    </tr>\n",
       "    <tr>\n",
       "      <th>1</th>\n",
       "      <td>337</td>\n",
       "      <td>gate_30</td>\n",
       "      <td>38</td>\n",
       "      <td>True</td>\n",
       "      <td>False</td>\n",
       "    </tr>\n",
       "    <tr>\n",
       "      <th>2</th>\n",
       "      <td>377</td>\n",
       "      <td>gate_40</td>\n",
       "      <td>165</td>\n",
       "      <td>True</td>\n",
       "      <td>False</td>\n",
       "    </tr>\n",
       "    <tr>\n",
       "      <th>3</th>\n",
       "      <td>483</td>\n",
       "      <td>gate_40</td>\n",
       "      <td>1</td>\n",
       "      <td>False</td>\n",
       "      <td>False</td>\n",
       "    </tr>\n",
       "    <tr>\n",
       "      <th>4</th>\n",
       "      <td>488</td>\n",
       "      <td>gate_40</td>\n",
       "      <td>179</td>\n",
       "      <td>True</td>\n",
       "      <td>True</td>\n",
       "    </tr>\n",
       "  </tbody>\n",
       "</table>\n",
       "</div>"
      ],
      "text/plain": [
       "   userid  version  sum_gamerounds  retention_1  retention_7\n",
       "0     116  gate_30               3        False        False\n",
       "1     337  gate_30              38         True        False\n",
       "2     377  gate_40             165         True        False\n",
       "3     483  gate_40               1        False        False\n",
       "4     488  gate_40             179         True         True"
      ]
     },
     "execution_count": 3,
     "metadata": {},
     "output_type": "execute_result"
    }
   ],
   "source": [
    "df.head()"
   ]
  },
  {
   "cell_type": "markdown",
   "id": "13cd6c4a",
   "metadata": {
    "papermill": {
     "duration": 0.008486,
     "end_time": "2024-09-16T23:04:40.767570",
     "exception": false,
     "start_time": "2024-09-16T23:04:40.759084",
     "status": "completed"
    },
    "tags": []
   },
   "source": [
    "## Data preprocessing"
   ]
  },
  {
   "cell_type": "code",
   "execution_count": 4,
   "id": "9a5b3949",
   "metadata": {
    "execution": {
     "iopub.execute_input": "2024-09-16T23:04:40.787165Z",
     "iopub.status.busy": "2024-09-16T23:04:40.786774Z",
     "iopub.status.idle": "2024-09-16T23:04:40.793527Z",
     "shell.execute_reply": "2024-09-16T23:04:40.792525Z"
    },
    "papermill": {
     "duration": 0.018864,
     "end_time": "2024-09-16T23:04:40.795725",
     "exception": false,
     "start_time": "2024-09-16T23:04:40.776861",
     "status": "completed"
    },
    "tags": []
   },
   "outputs": [
    {
     "data": {
      "text/plain": [
       "Index(['userid', 'version', 'sum_gamerounds', 'retention_1', 'retention_7'], dtype='object')"
      ]
     },
     "execution_count": 4,
     "metadata": {},
     "output_type": "execute_result"
    }
   ],
   "source": [
    "df.columns"
   ]
  },
  {
   "cell_type": "code",
   "execution_count": 5,
   "id": "d494c580",
   "metadata": {
    "execution": {
     "iopub.execute_input": "2024-09-16T23:04:40.815800Z",
     "iopub.status.busy": "2024-09-16T23:04:40.815425Z",
     "iopub.status.idle": "2024-09-16T23:04:40.831676Z",
     "shell.execute_reply": "2024-09-16T23:04:40.830546Z"
    },
    "papermill": {
     "duration": 0.028409,
     "end_time": "2024-09-16T23:04:40.833921",
     "exception": false,
     "start_time": "2024-09-16T23:04:40.805512",
     "status": "completed"
    },
    "tags": []
   },
   "outputs": [
    {
     "data": {
      "text/plain": [
       "90189"
      ]
     },
     "execution_count": 5,
     "metadata": {},
     "output_type": "execute_result"
    }
   ],
   "source": [
    "# check if all user ids are unique\n",
    "df['userid'].nunique()"
   ]
  },
  {
   "cell_type": "markdown",
   "id": "7159a188",
   "metadata": {
    "papermill": {
     "duration": 0.008396,
     "end_time": "2024-09-16T23:04:40.851382",
     "exception": false,
     "start_time": "2024-09-16T23:04:40.842986",
     "status": "completed"
    },
    "tags": []
   },
   "source": [
    "All users in the dataset (our sample) are unique"
   ]
  },
  {
   "cell_type": "code",
   "execution_count": 6,
   "id": "f70a53a3",
   "metadata": {
    "execution": {
     "iopub.execute_input": "2024-09-16T23:04:40.870518Z",
     "iopub.status.busy": "2024-09-16T23:04:40.870138Z",
     "iopub.status.idle": "2024-09-16T23:04:40.884160Z",
     "shell.execute_reply": "2024-09-16T23:04:40.883058Z"
    },
    "papermill": {
     "duration": 0.02619,
     "end_time": "2024-09-16T23:04:40.886409",
     "exception": false,
     "start_time": "2024-09-16T23:04:40.860219",
     "status": "completed"
    },
    "tags": []
   },
   "outputs": [
    {
     "data": {
      "text/plain": [
       "0"
      ]
     },
     "execution_count": 6,
     "metadata": {},
     "output_type": "execute_result"
    }
   ],
   "source": [
    "# check for missing values across columns\n",
    "count = 0\n",
    "for col in df.columns:\n",
    "    count = count + df[col].isna().sum()\n",
    "count"
   ]
  },
  {
   "cell_type": "markdown",
   "id": "15b14328",
   "metadata": {
    "papermill": {
     "duration": 0.008751,
     "end_time": "2024-09-16T23:04:40.904084",
     "exception": false,
     "start_time": "2024-09-16T23:04:40.895333",
     "status": "completed"
    },
    "tags": []
   },
   "source": [
    "There is no NaN values in our dataset since it's been preprocessed and the main focus is to learn how to A/B test our dataset."
   ]
  },
  {
   "cell_type": "markdown",
   "id": "87dff989",
   "metadata": {
    "papermill": {
     "duration": 0.008626,
     "end_time": "2024-09-16T23:04:40.921671",
     "exception": false,
     "start_time": "2024-09-16T23:04:40.913045",
     "status": "completed"
    },
    "tags": []
   },
   "source": [
    "### Visualization on the number of game rounds between Gate 30 and Gate 40 players"
   ]
  },
  {
   "cell_type": "code",
   "execution_count": 7,
   "id": "91b3b446",
   "metadata": {
    "execution": {
     "iopub.execute_input": "2024-09-16T23:04:40.941330Z",
     "iopub.status.busy": "2024-09-16T23:04:40.940967Z",
     "iopub.status.idle": "2024-09-16T23:04:40.979957Z",
     "shell.execute_reply": "2024-09-16T23:04:40.978929Z"
    },
    "papermill": {
     "duration": 0.051463,
     "end_time": "2024-09-16T23:04:40.982218",
     "exception": false,
     "start_time": "2024-09-16T23:04:40.930755",
     "status": "completed"
    },
    "tags": []
   },
   "outputs": [
    {
     "data": {
      "text/html": [
       "<div>\n",
       "<style scoped>\n",
       "    .dataframe tbody tr th:only-of-type {\n",
       "        vertical-align: middle;\n",
       "    }\n",
       "\n",
       "    .dataframe tbody tr th {\n",
       "        vertical-align: top;\n",
       "    }\n",
       "\n",
       "    .dataframe thead th {\n",
       "        text-align: right;\n",
       "    }\n",
       "</style>\n",
       "<table border=\"1\" class=\"dataframe\">\n",
       "  <thead>\n",
       "    <tr style=\"text-align: right;\">\n",
       "      <th></th>\n",
       "      <th>count</th>\n",
       "      <th>median</th>\n",
       "      <th>mean</th>\n",
       "      <th>std</th>\n",
       "      <th>max</th>\n",
       "    </tr>\n",
       "    <tr>\n",
       "      <th>version</th>\n",
       "      <th></th>\n",
       "      <th></th>\n",
       "      <th></th>\n",
       "      <th></th>\n",
       "      <th></th>\n",
       "    </tr>\n",
       "  </thead>\n",
       "  <tbody>\n",
       "    <tr>\n",
       "      <th>gate_30</th>\n",
       "      <td>44700</td>\n",
       "      <td>17.0</td>\n",
       "      <td>52.456264</td>\n",
       "      <td>256.716423</td>\n",
       "      <td>49854</td>\n",
       "    </tr>\n",
       "    <tr>\n",
       "      <th>gate_40</th>\n",
       "      <td>45489</td>\n",
       "      <td>16.0</td>\n",
       "      <td>51.298776</td>\n",
       "      <td>103.294416</td>\n",
       "      <td>2640</td>\n",
       "    </tr>\n",
       "  </tbody>\n",
       "</table>\n",
       "</div>"
      ],
      "text/plain": [
       "         count  median       mean         std    max\n",
       "version                                             \n",
       "gate_30  44700    17.0  52.456264  256.716423  49854\n",
       "gate_40  45489    16.0  51.298776  103.294416   2640"
      ]
     },
     "execution_count": 7,
     "metadata": {},
     "output_type": "execute_result"
    }
   ],
   "source": [
    "df.groupby('version').sum_gamerounds.agg(['count', 'median', 'mean', 'std', 'max'])"
   ]
  },
  {
   "cell_type": "code",
   "execution_count": 8,
   "id": "bf0c8da1",
   "metadata": {
    "execution": {
     "iopub.execute_input": "2024-09-16T23:04:41.002980Z",
     "iopub.status.busy": "2024-09-16T23:04:41.001856Z",
     "iopub.status.idle": "2024-09-16T23:04:41.973138Z",
     "shell.execute_reply": "2024-09-16T23:04:41.972062Z"
    },
    "papermill": {
     "duration": 0.984458,
     "end_time": "2024-09-16T23:04:41.975945",
     "exception": false,
     "start_time": "2024-09-16T23:04:40.991487",
     "status": "completed"
    },
    "tags": []
   },
   "outputs": [
    {
     "data": {
      "image/png": "[encoded data removed]",
      "text/plain": [
       "<Figure size 1800x500 with 3 Axes>"
      ]
     },
     "metadata": {},
     "output_type": "display_data"
    }
   ],
   "source": [
    "fig, axes = plt.subplots(1, 3, figsize = (18,5))\n",
    "df[(df.version == \"gate_30\")].hist(\"sum_gamerounds\", ax = axes[0], color = \"steelblue\")\n",
    "df[(df.version == \"gate_40\")].hist(\"sum_gamerounds\", ax = axes[1], color = \"steelblue\")\n",
    "sns.boxplot(x = df.version, y = df.sum_gamerounds, ax = axes[2])\n",
    "\n",
    "plt.suptitle(\"Distributions of Game Rounds between Gate 30 and Gate 40 Before Removing Outliers\", fontsize = 20)\n",
    "axes[0].set_title(\"Distribution of Gate 30\", fontsize = 15)\n",
    "axes[1].set_title(\"Distribution of Gate 40\", fontsize = 15)\n",
    "axes[2].set_title(\"Distribution of Two Groups\", fontsize = 15)\n",
    "\n",
    "plt.tight_layout(pad = 4);"
   ]
  },
  {
   "cell_type": "markdown",
   "id": "a0ba0d12",
   "metadata": {
    "papermill": {
     "duration": 0.009998,
     "end_time": "2024-09-16T23:04:41.997504",
     "exception": false,
     "start_time": "2024-09-16T23:04:41.987506",
     "status": "completed"
    },
    "tags": []
   },
   "source": [
    "From the distribution of the two groups, we notice that there's an outlier in the number of game rounds played for gate_30. We will check how many of such extreme values are there"
   ]
  },
  {
   "cell_type": "code",
   "execution_count": 9,
   "id": "221bf4ce",
   "metadata": {
    "execution": {
     "iopub.execute_input": "2024-09-16T23:04:42.020248Z",
     "iopub.status.busy": "2024-09-16T23:04:42.019181Z",
     "iopub.status.idle": "2024-09-16T23:04:42.041648Z",
     "shell.execute_reply": "2024-09-16T23:04:42.040374Z"
    },
    "papermill": {
     "duration": 0.036334,
     "end_time": "2024-09-16T23:04:42.044054",
     "exception": false,
     "start_time": "2024-09-16T23:04:42.007720",
     "status": "completed"
    },
    "tags": []
   },
   "outputs": [
    {
     "data": {
      "text/plain": [
       "1"
      ]
     },
     "execution_count": 9,
     "metadata": {},
     "output_type": "execute_result"
    }
   ],
   "source": [
    "df_gate_30 = df[df['version'] == 'gate_30']\n",
    "df_gate_30[df_gate_30['sum_gamerounds'] > 10000].value_counts().sum()"
   ]
  },
  {
   "cell_type": "markdown",
   "id": "f2d50fc2",
   "metadata": {
    "papermill": {
     "duration": 0.010012,
     "end_time": "2024-09-16T23:04:42.064774",
     "exception": false,
     "start_time": "2024-09-16T23:04:42.054762",
     "status": "completed"
    },
    "tags": []
   },
   "source": [
    "There's only 1 such extreme value where his/her number of play rounds exceeds 10000. We will remove this outlier."
   ]
  },
  {
   "cell_type": "code",
   "execution_count": 10,
   "id": "d8172165",
   "metadata": {
    "execution": {
     "iopub.execute_input": "2024-09-16T23:04:42.088061Z",
     "iopub.status.busy": "2024-09-16T23:04:42.086838Z",
     "iopub.status.idle": "2024-09-16T23:04:42.104186Z",
     "shell.execute_reply": "2024-09-16T23:04:42.102948Z"
    },
    "papermill": {
     "duration": 0.031319,
     "end_time": "2024-09-16T23:04:42.106557",
     "exception": false,
     "start_time": "2024-09-16T23:04:42.075238",
     "status": "completed"
    },
    "tags": []
   },
   "outputs": [
    {
     "data": {
      "text/html": [
       "<div>\n",
       "<style scoped>\n",
       "    .dataframe tbody tr th:only-of-type {\n",
       "        vertical-align: middle;\n",
       "    }\n",
       "\n",
       "    .dataframe tbody tr th {\n",
       "        vertical-align: top;\n",
       "    }\n",
       "\n",
       "    .dataframe thead th {\n",
       "        text-align: right;\n",
       "    }\n",
       "</style>\n",
       "<table border=\"1\" class=\"dataframe\">\n",
       "  <thead>\n",
       "    <tr style=\"text-align: right;\">\n",
       "      <th></th>\n",
       "      <th>userid</th>\n",
       "      <th>version</th>\n",
       "      <th>sum_gamerounds</th>\n",
       "      <th>retention_1</th>\n",
       "      <th>retention_7</th>\n",
       "    </tr>\n",
       "  </thead>\n",
       "  <tbody>\n",
       "    <tr>\n",
       "      <th>0</th>\n",
       "      <td>116</td>\n",
       "      <td>gate_30</td>\n",
       "      <td>3</td>\n",
       "      <td>False</td>\n",
       "      <td>False</td>\n",
       "    </tr>\n",
       "    <tr>\n",
       "      <th>1</th>\n",
       "      <td>337</td>\n",
       "      <td>gate_30</td>\n",
       "      <td>38</td>\n",
       "      <td>True</td>\n",
       "      <td>False</td>\n",
       "    </tr>\n",
       "    <tr>\n",
       "      <th>2</th>\n",
       "      <td>377</td>\n",
       "      <td>gate_40</td>\n",
       "      <td>165</td>\n",
       "      <td>True</td>\n",
       "      <td>False</td>\n",
       "    </tr>\n",
       "    <tr>\n",
       "      <th>3</th>\n",
       "      <td>483</td>\n",
       "      <td>gate_40</td>\n",
       "      <td>1</td>\n",
       "      <td>False</td>\n",
       "      <td>False</td>\n",
       "    </tr>\n",
       "    <tr>\n",
       "      <th>4</th>\n",
       "      <td>488</td>\n",
       "      <td>gate_40</td>\n",
       "      <td>179</td>\n",
       "      <td>True</td>\n",
       "      <td>True</td>\n",
       "    </tr>\n",
       "    <tr>\n",
       "      <th>...</th>\n",
       "      <td>...</td>\n",
       "      <td>...</td>\n",
       "      <td>...</td>\n",
       "      <td>...</td>\n",
       "      <td>...</td>\n",
       "    </tr>\n",
       "    <tr>\n",
       "      <th>90184</th>\n",
       "      <td>9999441</td>\n",
       "      <td>gate_40</td>\n",
       "      <td>97</td>\n",
       "      <td>True</td>\n",
       "      <td>False</td>\n",
       "    </tr>\n",
       "    <tr>\n",
       "      <th>90185</th>\n",
       "      <td>9999479</td>\n",
       "      <td>gate_40</td>\n",
       "      <td>30</td>\n",
       "      <td>False</td>\n",
       "      <td>False</td>\n",
       "    </tr>\n",
       "    <tr>\n",
       "      <th>90186</th>\n",
       "      <td>9999710</td>\n",
       "      <td>gate_30</td>\n",
       "      <td>28</td>\n",
       "      <td>True</td>\n",
       "      <td>False</td>\n",
       "    </tr>\n",
       "    <tr>\n",
       "      <th>90187</th>\n",
       "      <td>9999768</td>\n",
       "      <td>gate_40</td>\n",
       "      <td>51</td>\n",
       "      <td>True</td>\n",
       "      <td>False</td>\n",
       "    </tr>\n",
       "    <tr>\n",
       "      <th>90188</th>\n",
       "      <td>9999861</td>\n",
       "      <td>gate_40</td>\n",
       "      <td>16</td>\n",
       "      <td>False</td>\n",
       "      <td>False</td>\n",
       "    </tr>\n",
       "  </tbody>\n",
       "</table>\n",
       "<p>90188 rows × 5 columns</p>\n",
       "</div>"
      ],
      "text/plain": [
       "        userid  version  sum_gamerounds  retention_1  retention_7\n",
       "0          116  gate_30               3        False        False\n",
       "1          337  gate_30              38         True        False\n",
       "2          377  gate_40             165         True        False\n",
       "3          483  gate_40               1        False        False\n",
       "4          488  gate_40             179         True         True\n",
       "...        ...      ...             ...          ...          ...\n",
       "90184  9999441  gate_40              97         True        False\n",
       "90185  9999479  gate_40              30        False        False\n",
       "90186  9999710  gate_30              28         True        False\n",
       "90187  9999768  gate_40              51         True        False\n",
       "90188  9999861  gate_40              16        False        False\n",
       "\n",
       "[90188 rows x 5 columns]"
      ]
     },
     "execution_count": 10,
     "metadata": {},
     "output_type": "execute_result"
    }
   ],
   "source": [
    "df = df[df.sum_gamerounds < 10000]\n",
    "df"
   ]
  },
  {
   "cell_type": "code",
   "execution_count": 11,
   "id": "8db72bef",
   "metadata": {
    "execution": {
     "iopub.execute_input": "2024-09-16T23:04:42.130115Z",
     "iopub.status.busy": "2024-09-16T23:04:42.129035Z",
     "iopub.status.idle": "2024-09-16T23:04:43.044186Z",
     "shell.execute_reply": "2024-09-16T23:04:43.042394Z"
    },
    "papermill": {
     "duration": 0.929547,
     "end_time": "2024-09-16T23:04:43.046698",
     "exception": false,
     "start_time": "2024-09-16T23:04:42.117151",
     "status": "completed"
    },
    "tags": []
   },
   "outputs": [
    {
     "data": {
      "image/png": "[encoded data removed]",
      "text/plain": [
       "<Figure size 1800x500 with 3 Axes>"
      ]
     },
     "metadata": {},
     "output_type": "display_data"
    }
   ],
   "source": [
    "fig, axes = plt.subplots(1, 3, figsize = (18,5))\n",
    "df[(df.version == \"gate_30\")].hist(\"sum_gamerounds\", ax = axes[0], color = \"steelblue\")\n",
    "df[(df.version == \"gate_40\")].hist(\"sum_gamerounds\", ax = axes[1], color = \"steelblue\")\n",
    "sns.boxplot(x = df.version, y = df.sum_gamerounds, ax = axes[2])\n",
    "\n",
    "plt.suptitle(\"Distributions of Game Rounds between Gate 30 and Gate 40 After Removing Outliers\", fontsize = 20)\n",
    "axes[0].set_title(\"Distribution of Gate 30\", fontsize = 15)\n",
    "axes[1].set_title(\"Distribution of Gate 40\", fontsize = 15)\n",
    "axes[2].set_title(\"Distribution of Two Groups\", fontsize = 15)\n",
    "\n",
    "plt.tight_layout(pad = 4);"
   ]
  },
  {
   "cell_type": "markdown",
   "id": "47ab9e34",
   "metadata": {
    "papermill": {
     "duration": 0.011268,
     "end_time": "2024-09-16T23:04:43.069615",
     "exception": false,
     "start_time": "2024-09-16T23:04:43.058347",
     "status": "completed"
    },
    "tags": []
   },
   "source": [
    "## Total number of users for each group"
   ]
  },
  {
   "cell_type": "code",
   "execution_count": 12,
   "id": "a5204bce",
   "metadata": {
    "execution": {
     "iopub.execute_input": "2024-09-16T23:04:43.099218Z",
     "iopub.status.busy": "2024-09-16T23:04:43.098811Z",
     "iopub.status.idle": "2024-09-16T23:04:43.178870Z",
     "shell.execute_reply": "2024-09-16T23:04:43.177826Z"
    },
    "papermill": {
     "duration": 0.097768,
     "end_time": "2024-09-16T23:04:43.181388",
     "exception": false,
     "start_time": "2024-09-16T23:04:43.083620",
     "status": "completed"
    },
    "tags": []
   },
   "outputs": [],
   "source": [
    "gate_30_players = df[df['version'] == 'gate_30'].value_counts().sum()\n",
    "gate_40_players = df[df['version'] == 'gate_40'].value_counts().sum()"
   ]
  },
  {
   "cell_type": "markdown",
   "id": "31497532",
   "metadata": {
    "papermill": {
     "duration": 0.011073,
     "end_time": "2024-09-16T23:04:43.203981",
     "exception": false,
     "start_time": "2024-09-16T23:04:43.192908",
     "status": "completed"
    },
    "tags": []
   },
   "source": [
    "## Hypothesis 1: Difference in `retention_1` rate between the 2 groups"
   ]
  },
  {
   "cell_type": "code",
   "execution_count": 13,
   "id": "2bd92dce",
   "metadata": {
    "execution": {
     "iopub.execute_input": "2024-09-16T23:04:43.228441Z",
     "iopub.status.busy": "2024-09-16T23:04:43.228078Z",
     "iopub.status.idle": "2024-09-16T23:04:43.235117Z",
     "shell.execute_reply": "2024-09-16T23:04:43.234073Z"
    },
    "papermill": {
     "duration": 0.022032,
     "end_time": "2024-09-16T23:04:43.237471",
     "exception": false,
     "start_time": "2024-09-16T23:04:43.215439",
     "status": "completed"
    },
    "tags": []
   },
   "outputs": [],
   "source": [
    "# convert the column retention_1 and retention_7 into binary numerical values (1 for True, 0 for False)\n",
    "df['retention_1'] = df['retention_1'].astype(int)\n",
    "df['retention_7'] = df['retention_7'].astype(int)"
   ]
  },
  {
   "cell_type": "code",
   "execution_count": 14,
   "id": "89626782",
   "metadata": {
    "execution": {
     "iopub.execute_input": "2024-09-16T23:04:43.262065Z",
     "iopub.status.busy": "2024-09-16T23:04:43.261669Z",
     "iopub.status.idle": "2024-09-16T23:04:43.289085Z",
     "shell.execute_reply": "2024-09-16T23:04:43.288083Z"
    },
    "papermill": {
     "duration": 0.042369,
     "end_time": "2024-09-16T23:04:43.291557",
     "exception": false,
     "start_time": "2024-09-16T23:04:43.249188",
     "status": "completed"
    },
    "tags": []
   },
   "outputs": [],
   "source": [
    "# number of samples of user who's at version gate 30 and retained after day 1\n",
    "gate_30_retention_1_users = df[df['version'] == 'gate_30']['retention_1'].sum()\n",
    "gate_40_retention_1_users = df[df['version'] == 'gate_40']['retention_1'].sum()"
   ]
  },
  {
   "cell_type": "code",
   "execution_count": 15,
   "id": "19490996",
   "metadata": {
    "execution": {
     "iopub.execute_input": "2024-09-16T23:04:43.316866Z",
     "iopub.status.busy": "2024-09-16T23:04:43.315835Z",
     "iopub.status.idle": "2024-09-16T23:04:43.321292Z",
     "shell.execute_reply": "2024-09-16T23:04:43.320108Z"
    },
    "papermill": {
     "duration": 0.020331,
     "end_time": "2024-09-16T23:04:43.323537",
     "exception": false,
     "start_time": "2024-09-16T23:04:43.303206",
     "status": "completed"
    },
    "tags": []
   },
   "outputs": [],
   "source": [
    "# retention rate of users after day 1\n",
    "gate_30_retention_1_rate = gate_30_retention_1_users / gate_30_players\n",
    "gate_40_retention_1_rate = gate_40_retention_1_users / gate_40_players"
   ]
  },
  {
   "cell_type": "markdown",
   "id": "1ca2b3a2",
   "metadata": {
    "papermill": {
     "duration": 0.011733,
     "end_time": "2024-09-16T23:04:43.346874",
     "exception": false,
     "start_time": "2024-09-16T23:04:43.335141",
     "status": "completed"
    },
    "tags": []
   },
   "source": [
    "Since our goal for this hypothesis is to measure the difference between the proportions of retention rate between Gate 30 and Gate 40, so the appropriate statistical test is the **Two-proportion Z-test**."
   ]
  },
  {
   "cell_type": "code",
   "execution_count": 16,
   "id": "6c2d0ae6",
   "metadata": {
    "execution": {
     "iopub.execute_input": "2024-09-16T23:04:43.371755Z",
     "iopub.status.busy": "2024-09-16T23:04:43.371393Z",
     "iopub.status.idle": "2024-09-16T23:04:43.379559Z",
     "shell.execute_reply": "2024-09-16T23:04:43.378453Z"
    },
    "papermill": {
     "duration": 0.023211,
     "end_time": "2024-09-16T23:04:43.381859",
     "exception": false,
     "start_time": "2024-09-16T23:04:43.358648",
     "status": "completed"
    },
    "tags": []
   },
   "outputs": [
    {
     "name": "stdout",
     "output_type": "stream",
     "text": [
      "Z-statistic (Day 1): 1.787103509763628\n",
      "P-value (Day 1): 0.0739207603418346\n"
     ]
    }
   ],
   "source": [
    "# Two-proportion Z-test for retention 1 between the 2 groups\n",
    "z_stat_1, p_value_1 = proportions_ztest([gate_30_retention_1_users, gate_40_retention_1_users], [gate_30_players, gate_40_players])\n",
    "\n",
    "# extract the Z test statistic and its p-value\n",
    "print(f\"Z-statistic (Day 1): {z_stat_1}\\nP-value (Day 1): {p_value_1}\")"
   ]
  },
  {
   "cell_type": "markdown",
   "id": "d5ebf4e9",
   "metadata": {
    "papermill": {
     "duration": 0.0113,
     "end_time": "2024-09-16T23:04:43.404903",
     "exception": false,
     "start_time": "2024-09-16T23:04:43.393603",
     "status": "completed"
    },
    "tags": []
   },
   "source": [
    "### Is the result statistically significant (Day 1 retention)?\n",
    "We will follow the convention of using a 95% confidence interval to determine whether this result is statistically significant. For a 95% confidence interval, the standard significance level $\\alpha$ is 0.05. Since our calculated p-value is greater than 0.05, we failed to reject the null hypothesis "
   ]
  },
  {
   "cell_type": "markdown",
   "id": "961de046",
   "metadata": {
    "papermill": {
     "duration": 0.011111,
     "end_time": "2024-09-16T23:04:43.427577",
     "exception": false,
     "start_time": "2024-09-16T23:04:43.416466",
     "status": "completed"
    },
    "tags": []
   },
   "source": [
    "### Is the result practically significant (Day 1 retention)?\n",
    "Since our result is not statistically significant (such a difference was only due to random chance), it's very hard to say that the result is practically significant since we can't be confident that the observed difference is even real. However, we can still try to test whether it's practically significant. We will implement Cohen's h, which is used to determine practical significance between two proportions (Gate 30 and Gate 40 retention rate after Day 1)."
   ]
  },
  {
   "cell_type": "code",
   "execution_count": 17,
   "id": "741aed11",
   "metadata": {
    "execution": {
     "iopub.execute_input": "2024-09-16T23:04:43.454813Z",
     "iopub.status.busy": "2024-09-16T23:04:43.454425Z",
     "iopub.status.idle": "2024-09-16T23:04:43.461154Z",
     "shell.execute_reply": "2024-09-16T23:04:43.460033Z"
    },
    "papermill": {
     "duration": 0.023891,
     "end_time": "2024-09-16T23:04:43.463355",
     "exception": false,
     "start_time": "2024-09-16T23:04:43.439464",
     "status": "completed"
    },
    "tags": []
   },
   "outputs": [],
   "source": [
    "def cohen_h(p1, p2):\n",
    "    '''\n",
    "        Purpose:\n",
    "            Compute Cohen's h for two proportions\n",
    "            \n",
    "        Parameters:\n",
    "            p1: proportion of samples in group 1 p2: proportion of samples in group 2\n",
    "            \n",
    "        Returns:\n",
    "            Cohen's h value\n",
    "    '''\n",
    "    # handle error if proportions are not within the range [0, 1]\n",
    "    if not (0 <= p1 <= 1) or not (0 <= p2 <= 1):\n",
    "        raise ValueError(\"Proportions must be between 0 and 1\")\n",
    "    \n",
    "    # compute Cohen's h\n",
    "    h = 2 * np.arcsin(np.sqrt(p1)) - 2 * np.arcsin(np.sqrt(p2))\n",
    "    return h"
   ]
  },
  {
   "cell_type": "code",
   "execution_count": 18,
   "id": "705ce773",
   "metadata": {
    "execution": {
     "iopub.execute_input": "2024-09-16T23:04:43.489394Z",
     "iopub.status.busy": "2024-09-16T23:04:43.488708Z",
     "iopub.status.idle": "2024-09-16T23:04:43.495714Z",
     "shell.execute_reply": "2024-09-16T23:04:43.494050Z"
    },
    "papermill": {
     "duration": 0.023396,
     "end_time": "2024-09-16T23:04:43.498765",
     "exception": false,
     "start_time": "2024-09-16T23:04:43.475369",
     "status": "completed"
    },
    "tags": []
   },
   "outputs": [
    {
     "name": "stdout",
     "output_type": "stream",
     "text": [
      "Cohen's h (Retention 1): 0.0119\n"
     ]
    }
   ],
   "source": [
    "# calculate cohen's h for proportions of retained users after day 1\n",
    "h_value_day_1 = cohen_h(gate_30_retention_1_rate, gate_40_retention_1_rate)\n",
    "print(f\"Cohen's h (Retention 1): {h_value_day_1:.4f}\")"
   ]
  },
  {
   "cell_type": "markdown",
   "id": "c00c07a9",
   "metadata": {
    "papermill": {
     "duration": 0.01705,
     "end_time": "2024-09-16T23:04:43.531283",
     "exception": false,
     "start_time": "2024-09-16T23:04:43.514233",
     "status": "completed"
    },
    "tags": []
   },
   "source": [
    "As expected, our Cohen's h for retention 1 is very small and indicates a very small effect size. This suggests that the difference in retention rates between the two groups is so small that it's likely to be of minimal practical significance. In summary, the difference in retention rates between Gate 30 and Gate 40 players after day 1 is both non-statistically and non-practically significant. We will proceed with retention after day 7 hypothesis."
   ]
  },
  {
   "cell_type": "markdown",
   "id": "a2b59c5e",
   "metadata": {
    "papermill": {
     "duration": 0.013404,
     "end_time": "2024-09-16T23:04:43.563000",
     "exception": false,
     "start_time": "2024-09-16T23:04:43.549596",
     "status": "completed"
    },
    "tags": []
   },
   "source": [
    "## Hypothesis 2: Difference in `retention_7` rate between the 2 groups"
   ]
  },
  {
   "cell_type": "code",
   "execution_count": 19,
   "id": "a23dcd28",
   "metadata": {
    "execution": {
     "iopub.execute_input": "2024-09-16T23:04:43.589134Z",
     "iopub.status.busy": "2024-09-16T23:04:43.588307Z",
     "iopub.status.idle": "2024-09-16T23:04:43.616995Z",
     "shell.execute_reply": "2024-09-16T23:04:43.615828Z"
    },
    "papermill": {
     "duration": 0.046204,
     "end_time": "2024-09-16T23:04:43.621038",
     "exception": false,
     "start_time": "2024-09-16T23:04:43.574834",
     "status": "completed"
    },
    "tags": []
   },
   "outputs": [],
   "source": [
    "# number of samples of user who's at version gate 30 and retained after day 1\n",
    "gate_30_retention_7_users = df[df['version'] == 'gate_30']['retention_7'].sum()\n",
    "gate_40_retention_7_users = df[df['version'] == 'gate_40']['retention_7'].sum()"
   ]
  },
  {
   "cell_type": "code",
   "execution_count": 20,
   "id": "014ad9c6",
   "metadata": {
    "execution": {
     "iopub.execute_input": "2024-09-16T23:04:43.653998Z",
     "iopub.status.busy": "2024-09-16T23:04:43.653528Z",
     "iopub.status.idle": "2024-09-16T23:04:43.659148Z",
     "shell.execute_reply": "2024-09-16T23:04:43.657862Z"
    },
    "papermill": {
     "duration": 0.023375,
     "end_time": "2024-09-16T23:04:43.661963",
     "exception": false,
     "start_time": "2024-09-16T23:04:43.638588",
     "status": "completed"
    },
    "tags": []
   },
   "outputs": [],
   "source": [
    "# retention rate of users after day 1\n",
    "gate_30_retention_7_rate = gate_30_retention_7_users / gate_30_players\n",
    "gate_40_retention_7_rate = gate_40_retention_7_users / gate_40_players"
   ]
  },
  {
   "cell_type": "code",
   "execution_count": 21,
   "id": "61006ef5",
   "metadata": {
    "execution": {
     "iopub.execute_input": "2024-09-16T23:04:43.687947Z",
     "iopub.status.busy": "2024-09-16T23:04:43.687032Z",
     "iopub.status.idle": "2024-09-16T23:04:43.694681Z",
     "shell.execute_reply": "2024-09-16T23:04:43.693553Z"
    },
    "papermill": {
     "duration": 0.023448,
     "end_time": "2024-09-16T23:04:43.697367",
     "exception": false,
     "start_time": "2024-09-16T23:04:43.673919",
     "status": "completed"
    },
    "tags": []
   },
   "outputs": [
    {
     "data": {
      "text/plain": [
       "0.18200004396667327"
      ]
     },
     "execution_count": 21,
     "metadata": {},
     "output_type": "execute_result"
    }
   ],
   "source": [
    "gate_40_retention_7_rate"
   ]
  },
  {
   "cell_type": "markdown",
   "id": "456f14aa",
   "metadata": {
    "papermill": {
     "duration": 0.011597,
     "end_time": "2024-09-16T23:04:43.726743",
     "exception": false,
     "start_time": "2024-09-16T23:04:43.715146",
     "status": "completed"
    },
    "tags": []
   },
   "source": [
    "Similarly, the statistical test we will perform for this hypothesis is the **Two-proportion Z-test**"
   ]
  },
  {
   "cell_type": "code",
   "execution_count": 22,
   "id": "1d528bd0",
   "metadata": {
    "execution": {
     "iopub.execute_input": "2024-09-16T23:04:43.752507Z",
     "iopub.status.busy": "2024-09-16T23:04:43.751734Z",
     "iopub.status.idle": "2024-09-16T23:04:43.758156Z",
     "shell.execute_reply": "2024-09-16T23:04:43.756933Z"
    },
    "papermill": {
     "duration": 0.022149,
     "end_time": "2024-09-16T23:04:43.760753",
     "exception": false,
     "start_time": "2024-09-16T23:04:43.738604",
     "status": "completed"
    },
    "tags": []
   },
   "outputs": [
    {
     "name": "stdout",
     "output_type": "stream",
     "text": [
      "Z-statistic (Day 7): 3.1574100858819936\n",
      "P-value (Day 7): 0.0015917731773993442\n"
     ]
    }
   ],
   "source": [
    "# Two-proportion Z-test for retention 7 between the 2 groups\n",
    "z_stat_7, p_value_7 = proportions_ztest([gate_30_retention_7_users, gate_40_retention_7_users], [gate_30_players, gate_40_players])\n",
    "\n",
    "# extract the Z test statistic and its p-value\n",
    "print(f\"Z-statistic (Day 7): {z_stat_7}\\nP-value (Day 7): {p_value_7}\")"
   ]
  },
  {
   "cell_type": "markdown",
   "id": "e13d50ed",
   "metadata": {
    "papermill": {
     "duration": 0.011459,
     "end_time": "2024-09-16T23:04:43.784180",
     "exception": false,
     "start_time": "2024-09-16T23:04:43.772721",
     "status": "completed"
    },
    "tags": []
   },
   "source": [
    "To test the significance, we can follow 2 common ways:\n",
    "1. Compare the test statistic to the critical value for your confidence interval\n",
    "- We have to compute the critical value\n",
    "2. Compare the p-value to the significance level ($\\alpha = 0.05$) for a 95% confidence interval\n",
    "\n",
    "We will proceed with the second way."
   ]
  },
  {
   "cell_type": "markdown",
   "id": "b76b31d5",
   "metadata": {
    "papermill": {
     "duration": 0.011476,
     "end_time": "2024-09-16T23:04:43.807679",
     "exception": false,
     "start_time": "2024-09-16T23:04:43.796203",
     "status": "completed"
    },
    "tags": []
   },
   "source": [
    "### Is the result statistically significant (Day 7 retention)?\n",
    "For a 95% confidence interval, the significance level is $\\alpha = 0.05$. Since our p-value is 0.001 < $\\alpha$, we reject the null hypothesis. In other words, the difference between the retention rates after day 7 of Gate 30 and Gate 40 players is statistically significant, and this happened not due to random chance alone."
   ]
  },
  {
   "cell_type": "markdown",
   "id": "e36f11fd",
   "metadata": {
    "papermill": {
     "duration": 0.013089,
     "end_time": "2024-09-16T23:04:43.835385",
     "exception": false,
     "start_time": "2024-09-16T23:04:43.822296",
     "status": "completed"
    },
    "tags": []
   },
   "source": [
    "### Is the result practically significant (Day 7 retention)?\n",
    "Even though the result is statistically significant, it may not be large enough to be of practical importance. Practical significance focuses on the effect size—how large the difference is and whether this difference matters in a real-world context. Therefore, we need to apply Cohen's h again to determine the practical significance between 2 proportions."
   ]
  },
  {
   "cell_type": "code",
   "execution_count": 23,
   "id": "90f00013",
   "metadata": {
    "execution": {
     "iopub.execute_input": "2024-09-16T23:04:43.861062Z",
     "iopub.status.busy": "2024-09-16T23:04:43.860650Z",
     "iopub.status.idle": "2024-09-16T23:04:43.866684Z",
     "shell.execute_reply": "2024-09-16T23:04:43.865419Z"
    },
    "papermill": {
     "duration": 0.021883,
     "end_time": "2024-09-16T23:04:43.869236",
     "exception": false,
     "start_time": "2024-09-16T23:04:43.847353",
     "status": "completed"
    },
    "tags": []
   },
   "outputs": [
    {
     "name": "stdout",
     "output_type": "stream",
     "text": [
      "Cohen's h (Retention 7): 0.0210\n"
     ]
    }
   ],
   "source": [
    "h_value_day_7 = cohen_h(gate_30_retention_7_rate, gate_40_retention_7_rate)\n",
    "print(f\"Cohen's h (Retention 7): {h_value_day_7:.4f}\")"
   ]
  },
  {
   "cell_type": "markdown",
   "id": "a2e50d14",
   "metadata": {
    "papermill": {
     "duration": 0.011703,
     "end_time": "2024-09-16T23:04:43.893169",
     "exception": false,
     "start_time": "2024-09-16T23:04:43.881466",
     "status": "completed"
    },
    "tags": []
   },
   "source": [
    "Again, our Cohen's h value for day 7 retention has an extremely small effect. The difference between 2 proportions is negligible in practical importance. In summary, the result for day 7 retention is statistically significant but not enough for practical significance."
   ]
  }
 ],
 "metadata": {
  "kaggle": {
   "accelerator": "none",
   "dataSources": [
    {
     "datasetId": 5104698,
     "sourceId": 8544064,
     "sourceType": "datasetVersion"
    }
   ],
   "dockerImageVersionId": 30698,
   "isGpuEnabled": false,
   "isInternetEnabled": true,
   "language": "python",
   "sourceType": "notebook"
  },
  "kernelspec": {
   "display_name": "Python 3",
   "language": "python",
   "name": "python3"
  },
  "language_info": {
   "codemirror_mode": {
    "name": "ipython",
    "version": 3
   },
   "file_extension": ".py",
   "mimetype": "text/x-python",
   "name": "python",
   "nbconvert_exporter": "python",
   "pygments_lexer": "ipython3",
   "version": "3.10.13"
  },
  "papermill": {
   "default_parameters": {},
   "duration": 9.327909,
   "end_time": "2024-09-16T23:04:44.526648",
   "environment_variables": {},
   "exception": null,
   "input_path": "__notebook__.ipynb",
   "output_path": "__notebook__.ipynb",
   "parameters": {},
   "start_time": "2024-09-16T23:04:35.198739",
   "version": "2.5.0"
  }
 },
 "nbformat": 4,
 "nbformat_minor": 5
}
